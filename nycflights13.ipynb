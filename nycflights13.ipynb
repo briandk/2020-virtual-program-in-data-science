{
  "nbformat": 4,
  "nbformat_minor": 0,
  "metadata": {
    "kernelspec": {
      "display_name": "Python 3",
      "language": "python",
      "name": "python3"
    },
    "language_info": {
      "codemirror_mode": {
        "name": "ipython",
        "version": 3
      },
      "file_extension": ".py",
      "mimetype": "text/x-python",
      "name": "python",
      "nbconvert_exporter": "python",
      "pygments_lexer": "ipython3",
      "version": "3.7.7"
    },
    "colab": {
      "name": "nycflights13.ipynb",
      "provenance": [],
      "include_colab_link": true
    }
  },
  "cells": [
    {
      "cell_type": "markdown",
      "metadata": {
        "id": "view-in-github",
        "colab_type": "text"
      },
      "source": [
        "<a href=\"https://colab.research.google.com/github/briandk/2020-virtual-program-in-data-science/blob/master/nycflights13.ipynb\" target=\"_parent\"><img src=\"https://colab.research.google.com/assets/colab-badge.svg\" alt=\"Open In Colab\"/></a>"
      ]
    },
    {
      "cell_type": "code",
      "metadata": {
        "id": "4NOZAZ0550CY",
        "colab_type": "code",
        "colab": {}
      },
      "source": [
        ""
      ],
      "execution_count": null,
      "outputs": []
    },
    {
      "cell_type": "markdown",
      "metadata": {
        "id": "dvhhD85d4tov",
        "colab_type": "text"
      },
      "source": [
        "First, we import `pandas` so we can read the data in as a comma-separated value (CSV) file. "
      ]
    },
    {
      "cell_type": "code",
      "metadata": {
        "id": "G_GBM_Psm7V7",
        "colab_type": "code",
        "colab": {}
      },
      "source": [
        "import pandas as pd\n",
        "\n",
        "from plotnine import *"
      ],
      "execution_count": 1,
      "outputs": []
    },
    {
      "cell_type": "code",
      "metadata": {
        "id": "A5CgDs8BnBax",
        "colab_type": "code",
        "colab": {}
      },
      "source": [
        "flights = pd.read_csv(\"https://github.com/briandk/2020-virtual-program-in-data-science/raw/master/data/nycflights13.csv\")"
      ],
      "execution_count": 2,
      "outputs": []
    },
    {
      "cell_type": "code",
      "metadata": {
        "id": "fCtxLUl7nHy_",
        "colab_type": "code",
        "colab": {
          "base_uri": "https://localhost:8080/",
          "height": 589
        },
        "outputId": "d79f63a9-5ade-4e6c-8dcb-4ddb0179cee1"
      },
      "source": [
        "flights"
      ],
      "execution_count": 3,
      "outputs": [
        {
          "output_type": "execute_result",
          "data": {
            "text/html": [
              "<div>\n",
              "<style scoped>\n",
              "    .dataframe tbody tr th:only-of-type {\n",
              "        vertical-align: middle;\n",
              "    }\n",
              "\n",
              "    .dataframe tbody tr th {\n",
              "        vertical-align: top;\n",
              "    }\n",
              "\n",
              "    .dataframe thead th {\n",
              "        text-align: right;\n",
              "    }\n",
              "</style>\n",
              "<table border=\"1\" class=\"dataframe\">\n",
              "  <thead>\n",
              "    <tr style=\"text-align: right;\">\n",
              "      <th></th>\n",
              "      <th>year</th>\n",
              "      <th>month</th>\n",
              "      <th>day</th>\n",
              "      <th>dep_time</th>\n",
              "      <th>sched_dep_time</th>\n",
              "      <th>dep_delay</th>\n",
              "      <th>arr_time</th>\n",
              "      <th>sched_arr_time</th>\n",
              "      <th>arr_delay</th>\n",
              "      <th>carrier</th>\n",
              "      <th>flight</th>\n",
              "      <th>tailnum</th>\n",
              "      <th>origin</th>\n",
              "      <th>dest</th>\n",
              "      <th>air_time</th>\n",
              "      <th>distance</th>\n",
              "      <th>hour</th>\n",
              "      <th>minute</th>\n",
              "      <th>time_hour</th>\n",
              "    </tr>\n",
              "  </thead>\n",
              "  <tbody>\n",
              "    <tr>\n",
              "      <th>0</th>\n",
              "      <td>2013</td>\n",
              "      <td>1</td>\n",
              "      <td>1</td>\n",
              "      <td>517.0</td>\n",
              "      <td>515</td>\n",
              "      <td>2.0</td>\n",
              "      <td>830.0</td>\n",
              "      <td>819</td>\n",
              "      <td>11.0</td>\n",
              "      <td>UA</td>\n",
              "      <td>1545</td>\n",
              "      <td>N14228</td>\n",
              "      <td>EWR</td>\n",
              "      <td>IAH</td>\n",
              "      <td>227.0</td>\n",
              "      <td>1400</td>\n",
              "      <td>5</td>\n",
              "      <td>15</td>\n",
              "      <td>2013-01-01T10:00:00Z</td>\n",
              "    </tr>\n",
              "    <tr>\n",
              "      <th>1</th>\n",
              "      <td>2013</td>\n",
              "      <td>1</td>\n",
              "      <td>1</td>\n",
              "      <td>533.0</td>\n",
              "      <td>529</td>\n",
              "      <td>4.0</td>\n",
              "      <td>850.0</td>\n",
              "      <td>830</td>\n",
              "      <td>20.0</td>\n",
              "      <td>UA</td>\n",
              "      <td>1714</td>\n",
              "      <td>N24211</td>\n",
              "      <td>LGA</td>\n",
              "      <td>IAH</td>\n",
              "      <td>227.0</td>\n",
              "      <td>1416</td>\n",
              "      <td>5</td>\n",
              "      <td>29</td>\n",
              "      <td>2013-01-01T10:00:00Z</td>\n",
              "    </tr>\n",
              "    <tr>\n",
              "      <th>2</th>\n",
              "      <td>2013</td>\n",
              "      <td>1</td>\n",
              "      <td>1</td>\n",
              "      <td>542.0</td>\n",
              "      <td>540</td>\n",
              "      <td>2.0</td>\n",
              "      <td>923.0</td>\n",
              "      <td>850</td>\n",
              "      <td>33.0</td>\n",
              "      <td>AA</td>\n",
              "      <td>1141</td>\n",
              "      <td>N619AA</td>\n",
              "      <td>JFK</td>\n",
              "      <td>MIA</td>\n",
              "      <td>160.0</td>\n",
              "      <td>1089</td>\n",
              "      <td>5</td>\n",
              "      <td>40</td>\n",
              "      <td>2013-01-01T10:00:00Z</td>\n",
              "    </tr>\n",
              "    <tr>\n",
              "      <th>3</th>\n",
              "      <td>2013</td>\n",
              "      <td>1</td>\n",
              "      <td>1</td>\n",
              "      <td>544.0</td>\n",
              "      <td>545</td>\n",
              "      <td>-1.0</td>\n",
              "      <td>1004.0</td>\n",
              "      <td>1022</td>\n",
              "      <td>-18.0</td>\n",
              "      <td>B6</td>\n",
              "      <td>725</td>\n",
              "      <td>N804JB</td>\n",
              "      <td>JFK</td>\n",
              "      <td>BQN</td>\n",
              "      <td>183.0</td>\n",
              "      <td>1576</td>\n",
              "      <td>5</td>\n",
              "      <td>45</td>\n",
              "      <td>2013-01-01T10:00:00Z</td>\n",
              "    </tr>\n",
              "    <tr>\n",
              "      <th>4</th>\n",
              "      <td>2013</td>\n",
              "      <td>1</td>\n",
              "      <td>1</td>\n",
              "      <td>554.0</td>\n",
              "      <td>600</td>\n",
              "      <td>-6.0</td>\n",
              "      <td>812.0</td>\n",
              "      <td>837</td>\n",
              "      <td>-25.0</td>\n",
              "      <td>DL</td>\n",
              "      <td>461</td>\n",
              "      <td>N668DN</td>\n",
              "      <td>LGA</td>\n",
              "      <td>ATL</td>\n",
              "      <td>116.0</td>\n",
              "      <td>762</td>\n",
              "      <td>6</td>\n",
              "      <td>0</td>\n",
              "      <td>2013-01-01T11:00:00Z</td>\n",
              "    </tr>\n",
              "    <tr>\n",
              "      <th>...</th>\n",
              "      <td>...</td>\n",
              "      <td>...</td>\n",
              "      <td>...</td>\n",
              "      <td>...</td>\n",
              "      <td>...</td>\n",
              "      <td>...</td>\n",
              "      <td>...</td>\n",
              "      <td>...</td>\n",
              "      <td>...</td>\n",
              "      <td>...</td>\n",
              "      <td>...</td>\n",
              "      <td>...</td>\n",
              "      <td>...</td>\n",
              "      <td>...</td>\n",
              "      <td>...</td>\n",
              "      <td>...</td>\n",
              "      <td>...</td>\n",
              "      <td>...</td>\n",
              "      <td>...</td>\n",
              "    </tr>\n",
              "    <tr>\n",
              "      <th>336771</th>\n",
              "      <td>2013</td>\n",
              "      <td>9</td>\n",
              "      <td>30</td>\n",
              "      <td>NaN</td>\n",
              "      <td>1455</td>\n",
              "      <td>NaN</td>\n",
              "      <td>NaN</td>\n",
              "      <td>1634</td>\n",
              "      <td>NaN</td>\n",
              "      <td>9E</td>\n",
              "      <td>3393</td>\n",
              "      <td>NaN</td>\n",
              "      <td>JFK</td>\n",
              "      <td>DCA</td>\n",
              "      <td>NaN</td>\n",
              "      <td>213</td>\n",
              "      <td>14</td>\n",
              "      <td>55</td>\n",
              "      <td>2013-09-30T18:00:00Z</td>\n",
              "    </tr>\n",
              "    <tr>\n",
              "      <th>336772</th>\n",
              "      <td>2013</td>\n",
              "      <td>9</td>\n",
              "      <td>30</td>\n",
              "      <td>NaN</td>\n",
              "      <td>2200</td>\n",
              "      <td>NaN</td>\n",
              "      <td>NaN</td>\n",
              "      <td>2312</td>\n",
              "      <td>NaN</td>\n",
              "      <td>9E</td>\n",
              "      <td>3525</td>\n",
              "      <td>NaN</td>\n",
              "      <td>LGA</td>\n",
              "      <td>SYR</td>\n",
              "      <td>NaN</td>\n",
              "      <td>198</td>\n",
              "      <td>22</td>\n",
              "      <td>0</td>\n",
              "      <td>2013-10-01T02:00:00Z</td>\n",
              "    </tr>\n",
              "    <tr>\n",
              "      <th>336773</th>\n",
              "      <td>2013</td>\n",
              "      <td>9</td>\n",
              "      <td>30</td>\n",
              "      <td>NaN</td>\n",
              "      <td>1210</td>\n",
              "      <td>NaN</td>\n",
              "      <td>NaN</td>\n",
              "      <td>1330</td>\n",
              "      <td>NaN</td>\n",
              "      <td>MQ</td>\n",
              "      <td>3461</td>\n",
              "      <td>N535MQ</td>\n",
              "      <td>LGA</td>\n",
              "      <td>BNA</td>\n",
              "      <td>NaN</td>\n",
              "      <td>764</td>\n",
              "      <td>12</td>\n",
              "      <td>10</td>\n",
              "      <td>2013-09-30T16:00:00Z</td>\n",
              "    </tr>\n",
              "    <tr>\n",
              "      <th>336774</th>\n",
              "      <td>2013</td>\n",
              "      <td>9</td>\n",
              "      <td>30</td>\n",
              "      <td>NaN</td>\n",
              "      <td>1159</td>\n",
              "      <td>NaN</td>\n",
              "      <td>NaN</td>\n",
              "      <td>1344</td>\n",
              "      <td>NaN</td>\n",
              "      <td>MQ</td>\n",
              "      <td>3572</td>\n",
              "      <td>N511MQ</td>\n",
              "      <td>LGA</td>\n",
              "      <td>CLE</td>\n",
              "      <td>NaN</td>\n",
              "      <td>419</td>\n",
              "      <td>11</td>\n",
              "      <td>59</td>\n",
              "      <td>2013-09-30T15:00:00Z</td>\n",
              "    </tr>\n",
              "    <tr>\n",
              "      <th>336775</th>\n",
              "      <td>2013</td>\n",
              "      <td>9</td>\n",
              "      <td>30</td>\n",
              "      <td>NaN</td>\n",
              "      <td>840</td>\n",
              "      <td>NaN</td>\n",
              "      <td>NaN</td>\n",
              "      <td>1020</td>\n",
              "      <td>NaN</td>\n",
              "      <td>MQ</td>\n",
              "      <td>3531</td>\n",
              "      <td>N839MQ</td>\n",
              "      <td>LGA</td>\n",
              "      <td>RDU</td>\n",
              "      <td>NaN</td>\n",
              "      <td>431</td>\n",
              "      <td>8</td>\n",
              "      <td>40</td>\n",
              "      <td>2013-09-30T12:00:00Z</td>\n",
              "    </tr>\n",
              "  </tbody>\n",
              "</table>\n",
              "<p>336776 rows × 19 columns</p>\n",
              "</div>"
            ],
            "text/plain": [
              "        year  month  day  ...  hour  minute             time_hour\n",
              "0       2013      1    1  ...     5      15  2013-01-01T10:00:00Z\n",
              "1       2013      1    1  ...     5      29  2013-01-01T10:00:00Z\n",
              "2       2013      1    1  ...     5      40  2013-01-01T10:00:00Z\n",
              "3       2013      1    1  ...     5      45  2013-01-01T10:00:00Z\n",
              "4       2013      1    1  ...     6       0  2013-01-01T11:00:00Z\n",
              "...      ...    ...  ...  ...   ...     ...                   ...\n",
              "336771  2013      9   30  ...    14      55  2013-09-30T18:00:00Z\n",
              "336772  2013      9   30  ...    22       0  2013-10-01T02:00:00Z\n",
              "336773  2013      9   30  ...    12      10  2013-09-30T16:00:00Z\n",
              "336774  2013      9   30  ...    11      59  2013-09-30T15:00:00Z\n",
              "336775  2013      9   30  ...     8      40  2013-09-30T12:00:00Z\n",
              "\n",
              "[336776 rows x 19 columns]"
            ]
          },
          "metadata": {
            "tags": []
          },
          "execution_count": 3
        }
      ]
    },
    {
      "cell_type": "markdown",
      "metadata": {
        "id": "Affea6g1nuNX",
        "colab_type": "text"
      },
      "source": [
        "How many flights flew out of each airport?"
      ]
    },
    {
      "cell_type": "code",
      "metadata": {
        "id": "l6O1ke0toAsg",
        "colab_type": "code",
        "colab": {
          "base_uri": "https://localhost:8080/",
          "height": 173
        },
        "outputId": "4a4c5aab-daa1-4866-940b-ef639ffd75e4"
      },
      "source": [
        "flights.groupby('origin').count()[['flight']]"
      ],
      "execution_count": 4,
      "outputs": [
        {
          "output_type": "execute_result",
          "data": {
            "text/html": [
              "<div>\n",
              "<style scoped>\n",
              "    .dataframe tbody tr th:only-of-type {\n",
              "        vertical-align: middle;\n",
              "    }\n",
              "\n",
              "    .dataframe tbody tr th {\n",
              "        vertical-align: top;\n",
              "    }\n",
              "\n",
              "    .dataframe thead th {\n",
              "        text-align: right;\n",
              "    }\n",
              "</style>\n",
              "<table border=\"1\" class=\"dataframe\">\n",
              "  <thead>\n",
              "    <tr style=\"text-align: right;\">\n",
              "      <th></th>\n",
              "      <th>flight</th>\n",
              "    </tr>\n",
              "    <tr>\n",
              "      <th>origin</th>\n",
              "      <th></th>\n",
              "    </tr>\n",
              "  </thead>\n",
              "  <tbody>\n",
              "    <tr>\n",
              "      <th>EWR</th>\n",
              "      <td>120835</td>\n",
              "    </tr>\n",
              "    <tr>\n",
              "      <th>JFK</th>\n",
              "      <td>111279</td>\n",
              "    </tr>\n",
              "    <tr>\n",
              "      <th>LGA</th>\n",
              "      <td>104662</td>\n",
              "    </tr>\n",
              "  </tbody>\n",
              "</table>\n",
              "</div>"
            ],
            "text/plain": [
              "        flight\n",
              "origin        \n",
              "EWR     120835\n",
              "JFK     111279\n",
              "LGA     104662"
            ]
          },
          "metadata": {
            "tags": []
          },
          "execution_count": 4
        }
      ]
    },
    {
      "cell_type": "markdown",
      "metadata": {
        "id": "w6VQtdV4nQwr",
        "colab_type": "text"
      },
      "source": [
        "What's the average delay time out of each of the major airports?"
      ]
    },
    {
      "cell_type": "code",
      "metadata": {
        "id": "IbJd0_R9nJYU",
        "colab_type": "code",
        "colab": {
          "base_uri": "https://localhost:8080/",
          "height": 34
        },
        "outputId": "927527f4-ef77-41d3-8b3f-7e39ed6b39eb"
      },
      "source": [
        "LaGuardia = \"LGA\"\n",
        "JohnFKennedy = \"JFK\"\n",
        "Newark = \"EWR\"\n",
        "\n",
        "def mean_departure_delay(airport: str):\n",
        "  return flights[flights['origin'] == airport]['dep_delay'].mean()\n",
        "\n",
        "average_delays = [mean_departure_delay(airport) for airport in [Newark, JohnFKennedy, LaGuardia]]\n",
        "average_delays"
      ],
      "execution_count": 5,
      "outputs": [
        {
          "output_type": "execute_result",
          "data": {
            "text/plain": [
              "[15.10795435218885, 12.112159099217665, 10.3468756464944]"
            ]
          },
          "metadata": {
            "tags": []
          },
          "execution_count": 5
        }
      ]
    },
    {
      "cell_type": "code",
      "metadata": {
        "id": "M8JkulO2np7J",
        "colab_type": "code",
        "colab": {}
      },
      "source": [
        "flights = flights.assign(timestamp = pd.to_datetime(flights['time_hour']))"
      ],
      "execution_count": 6,
      "outputs": []
    },
    {
      "cell_type": "code",
      "metadata": {
        "id": "UO6KhpdepXJr",
        "colab_type": "code",
        "colab": {
          "base_uri": "https://localhost:8080/",
          "height": 609
        },
        "outputId": "43d2b0c0-30de-433f-9dce-21b52643a337"
      },
      "source": [
        "flights"
      ],
      "execution_count": 7,
      "outputs": [
        {
          "output_type": "execute_result",
          "data": {
            "text/html": [
              "<div>\n",
              "<style scoped>\n",
              "    .dataframe tbody tr th:only-of-type {\n",
              "        vertical-align: middle;\n",
              "    }\n",
              "\n",
              "    .dataframe tbody tr th {\n",
              "        vertical-align: top;\n",
              "    }\n",
              "\n",
              "    .dataframe thead th {\n",
              "        text-align: right;\n",
              "    }\n",
              "</style>\n",
              "<table border=\"1\" class=\"dataframe\">\n",
              "  <thead>\n",
              "    <tr style=\"text-align: right;\">\n",
              "      <th></th>\n",
              "      <th>year</th>\n",
              "      <th>month</th>\n",
              "      <th>day</th>\n",
              "      <th>dep_time</th>\n",
              "      <th>sched_dep_time</th>\n",
              "      <th>dep_delay</th>\n",
              "      <th>arr_time</th>\n",
              "      <th>sched_arr_time</th>\n",
              "      <th>arr_delay</th>\n",
              "      <th>carrier</th>\n",
              "      <th>flight</th>\n",
              "      <th>tailnum</th>\n",
              "      <th>origin</th>\n",
              "      <th>dest</th>\n",
              "      <th>air_time</th>\n",
              "      <th>distance</th>\n",
              "      <th>hour</th>\n",
              "      <th>minute</th>\n",
              "      <th>time_hour</th>\n",
              "      <th>timestamp</th>\n",
              "    </tr>\n",
              "  </thead>\n",
              "  <tbody>\n",
              "    <tr>\n",
              "      <th>0</th>\n",
              "      <td>2013</td>\n",
              "      <td>1</td>\n",
              "      <td>1</td>\n",
              "      <td>517.0</td>\n",
              "      <td>515</td>\n",
              "      <td>2.0</td>\n",
              "      <td>830.0</td>\n",
              "      <td>819</td>\n",
              "      <td>11.0</td>\n",
              "      <td>UA</td>\n",
              "      <td>1545</td>\n",
              "      <td>N14228</td>\n",
              "      <td>EWR</td>\n",
              "      <td>IAH</td>\n",
              "      <td>227.0</td>\n",
              "      <td>1400</td>\n",
              "      <td>5</td>\n",
              "      <td>15</td>\n",
              "      <td>2013-01-01T10:00:00Z</td>\n",
              "      <td>2013-01-01 10:00:00+00:00</td>\n",
              "    </tr>\n",
              "    <tr>\n",
              "      <th>1</th>\n",
              "      <td>2013</td>\n",
              "      <td>1</td>\n",
              "      <td>1</td>\n",
              "      <td>533.0</td>\n",
              "      <td>529</td>\n",
              "      <td>4.0</td>\n",
              "      <td>850.0</td>\n",
              "      <td>830</td>\n",
              "      <td>20.0</td>\n",
              "      <td>UA</td>\n",
              "      <td>1714</td>\n",
              "      <td>N24211</td>\n",
              "      <td>LGA</td>\n",
              "      <td>IAH</td>\n",
              "      <td>227.0</td>\n",
              "      <td>1416</td>\n",
              "      <td>5</td>\n",
              "      <td>29</td>\n",
              "      <td>2013-01-01T10:00:00Z</td>\n",
              "      <td>2013-01-01 10:00:00+00:00</td>\n",
              "    </tr>\n",
              "    <tr>\n",
              "      <th>2</th>\n",
              "      <td>2013</td>\n",
              "      <td>1</td>\n",
              "      <td>1</td>\n",
              "      <td>542.0</td>\n",
              "      <td>540</td>\n",
              "      <td>2.0</td>\n",
              "      <td>923.0</td>\n",
              "      <td>850</td>\n",
              "      <td>33.0</td>\n",
              "      <td>AA</td>\n",
              "      <td>1141</td>\n",
              "      <td>N619AA</td>\n",
              "      <td>JFK</td>\n",
              "      <td>MIA</td>\n",
              "      <td>160.0</td>\n",
              "      <td>1089</td>\n",
              "      <td>5</td>\n",
              "      <td>40</td>\n",
              "      <td>2013-01-01T10:00:00Z</td>\n",
              "      <td>2013-01-01 10:00:00+00:00</td>\n",
              "    </tr>\n",
              "    <tr>\n",
              "      <th>3</th>\n",
              "      <td>2013</td>\n",
              "      <td>1</td>\n",
              "      <td>1</td>\n",
              "      <td>544.0</td>\n",
              "      <td>545</td>\n",
              "      <td>-1.0</td>\n",
              "      <td>1004.0</td>\n",
              "      <td>1022</td>\n",
              "      <td>-18.0</td>\n",
              "      <td>B6</td>\n",
              "      <td>725</td>\n",
              "      <td>N804JB</td>\n",
              "      <td>JFK</td>\n",
              "      <td>BQN</td>\n",
              "      <td>183.0</td>\n",
              "      <td>1576</td>\n",
              "      <td>5</td>\n",
              "      <td>45</td>\n",
              "      <td>2013-01-01T10:00:00Z</td>\n",
              "      <td>2013-01-01 10:00:00+00:00</td>\n",
              "    </tr>\n",
              "    <tr>\n",
              "      <th>4</th>\n",
              "      <td>2013</td>\n",
              "      <td>1</td>\n",
              "      <td>1</td>\n",
              "      <td>554.0</td>\n",
              "      <td>600</td>\n",
              "      <td>-6.0</td>\n",
              "      <td>812.0</td>\n",
              "      <td>837</td>\n",
              "      <td>-25.0</td>\n",
              "      <td>DL</td>\n",
              "      <td>461</td>\n",
              "      <td>N668DN</td>\n",
              "      <td>LGA</td>\n",
              "      <td>ATL</td>\n",
              "      <td>116.0</td>\n",
              "      <td>762</td>\n",
              "      <td>6</td>\n",
              "      <td>0</td>\n",
              "      <td>2013-01-01T11:00:00Z</td>\n",
              "      <td>2013-01-01 11:00:00+00:00</td>\n",
              "    </tr>\n",
              "    <tr>\n",
              "      <th>...</th>\n",
              "      <td>...</td>\n",
              "      <td>...</td>\n",
              "      <td>...</td>\n",
              "      <td>...</td>\n",
              "      <td>...</td>\n",
              "      <td>...</td>\n",
              "      <td>...</td>\n",
              "      <td>...</td>\n",
              "      <td>...</td>\n",
              "      <td>...</td>\n",
              "      <td>...</td>\n",
              "      <td>...</td>\n",
              "      <td>...</td>\n",
              "      <td>...</td>\n",
              "      <td>...</td>\n",
              "      <td>...</td>\n",
              "      <td>...</td>\n",
              "      <td>...</td>\n",
              "      <td>...</td>\n",
              "      <td>...</td>\n",
              "    </tr>\n",
              "    <tr>\n",
              "      <th>336771</th>\n",
              "      <td>2013</td>\n",
              "      <td>9</td>\n",
              "      <td>30</td>\n",
              "      <td>NaN</td>\n",
              "      <td>1455</td>\n",
              "      <td>NaN</td>\n",
              "      <td>NaN</td>\n",
              "      <td>1634</td>\n",
              "      <td>NaN</td>\n",
              "      <td>9E</td>\n",
              "      <td>3393</td>\n",
              "      <td>NaN</td>\n",
              "      <td>JFK</td>\n",
              "      <td>DCA</td>\n",
              "      <td>NaN</td>\n",
              "      <td>213</td>\n",
              "      <td>14</td>\n",
              "      <td>55</td>\n",
              "      <td>2013-09-30T18:00:00Z</td>\n",
              "      <td>2013-09-30 18:00:00+00:00</td>\n",
              "    </tr>\n",
              "    <tr>\n",
              "      <th>336772</th>\n",
              "      <td>2013</td>\n",
              "      <td>9</td>\n",
              "      <td>30</td>\n",
              "      <td>NaN</td>\n",
              "      <td>2200</td>\n",
              "      <td>NaN</td>\n",
              "      <td>NaN</td>\n",
              "      <td>2312</td>\n",
              "      <td>NaN</td>\n",
              "      <td>9E</td>\n",
              "      <td>3525</td>\n",
              "      <td>NaN</td>\n",
              "      <td>LGA</td>\n",
              "      <td>SYR</td>\n",
              "      <td>NaN</td>\n",
              "      <td>198</td>\n",
              "      <td>22</td>\n",
              "      <td>0</td>\n",
              "      <td>2013-10-01T02:00:00Z</td>\n",
              "      <td>2013-10-01 02:00:00+00:00</td>\n",
              "    </tr>\n",
              "    <tr>\n",
              "      <th>336773</th>\n",
              "      <td>2013</td>\n",
              "      <td>9</td>\n",
              "      <td>30</td>\n",
              "      <td>NaN</td>\n",
              "      <td>1210</td>\n",
              "      <td>NaN</td>\n",
              "      <td>NaN</td>\n",
              "      <td>1330</td>\n",
              "      <td>NaN</td>\n",
              "      <td>MQ</td>\n",
              "      <td>3461</td>\n",
              "      <td>N535MQ</td>\n",
              "      <td>LGA</td>\n",
              "      <td>BNA</td>\n",
              "      <td>NaN</td>\n",
              "      <td>764</td>\n",
              "      <td>12</td>\n",
              "      <td>10</td>\n",
              "      <td>2013-09-30T16:00:00Z</td>\n",
              "      <td>2013-09-30 16:00:00+00:00</td>\n",
              "    </tr>\n",
              "    <tr>\n",
              "      <th>336774</th>\n",
              "      <td>2013</td>\n",
              "      <td>9</td>\n",
              "      <td>30</td>\n",
              "      <td>NaN</td>\n",
              "      <td>1159</td>\n",
              "      <td>NaN</td>\n",
              "      <td>NaN</td>\n",
              "      <td>1344</td>\n",
              "      <td>NaN</td>\n",
              "      <td>MQ</td>\n",
              "      <td>3572</td>\n",
              "      <td>N511MQ</td>\n",
              "      <td>LGA</td>\n",
              "      <td>CLE</td>\n",
              "      <td>NaN</td>\n",
              "      <td>419</td>\n",
              "      <td>11</td>\n",
              "      <td>59</td>\n",
              "      <td>2013-09-30T15:00:00Z</td>\n",
              "      <td>2013-09-30 15:00:00+00:00</td>\n",
              "    </tr>\n",
              "    <tr>\n",
              "      <th>336775</th>\n",
              "      <td>2013</td>\n",
              "      <td>9</td>\n",
              "      <td>30</td>\n",
              "      <td>NaN</td>\n",
              "      <td>840</td>\n",
              "      <td>NaN</td>\n",
              "      <td>NaN</td>\n",
              "      <td>1020</td>\n",
              "      <td>NaN</td>\n",
              "      <td>MQ</td>\n",
              "      <td>3531</td>\n",
              "      <td>N839MQ</td>\n",
              "      <td>LGA</td>\n",
              "      <td>RDU</td>\n",
              "      <td>NaN</td>\n",
              "      <td>431</td>\n",
              "      <td>8</td>\n",
              "      <td>40</td>\n",
              "      <td>2013-09-30T12:00:00Z</td>\n",
              "      <td>2013-09-30 12:00:00+00:00</td>\n",
              "    </tr>\n",
              "  </tbody>\n",
              "</table>\n",
              "<p>336776 rows × 20 columns</p>\n",
              "</div>"
            ],
            "text/plain": [
              "        year  month  ...             time_hour                 timestamp\n",
              "0       2013      1  ...  2013-01-01T10:00:00Z 2013-01-01 10:00:00+00:00\n",
              "1       2013      1  ...  2013-01-01T10:00:00Z 2013-01-01 10:00:00+00:00\n",
              "2       2013      1  ...  2013-01-01T10:00:00Z 2013-01-01 10:00:00+00:00\n",
              "3       2013      1  ...  2013-01-01T10:00:00Z 2013-01-01 10:00:00+00:00\n",
              "4       2013      1  ...  2013-01-01T11:00:00Z 2013-01-01 11:00:00+00:00\n",
              "...      ...    ...  ...                   ...                       ...\n",
              "336771  2013      9  ...  2013-09-30T18:00:00Z 2013-09-30 18:00:00+00:00\n",
              "336772  2013      9  ...  2013-10-01T02:00:00Z 2013-10-01 02:00:00+00:00\n",
              "336773  2013      9  ...  2013-09-30T16:00:00Z 2013-09-30 16:00:00+00:00\n",
              "336774  2013      9  ...  2013-09-30T15:00:00Z 2013-09-30 15:00:00+00:00\n",
              "336775  2013      9  ...  2013-09-30T12:00:00Z 2013-09-30 12:00:00+00:00\n",
              "\n",
              "[336776 rows x 20 columns]"
            ]
          },
          "metadata": {
            "tags": []
          },
          "execution_count": 7
        }
      ]
    },
    {
      "cell_type": "code",
      "metadata": {
        "id": "E8aYDvDG6_5E",
        "colab_type": "code",
        "colab": {}
      },
      "source": [
        ""
      ],
      "execution_count": 7,
      "outputs": []
    },
    {
      "cell_type": "code",
      "metadata": {
        "id": "HolerG10pxvs",
        "colab_type": "code",
        "colab": {}
      },
      "source": [
        "flights_by_day_of_the_month = flights.groupby('day').count()"
      ],
      "execution_count": 8,
      "outputs": []
    },
    {
      "cell_type": "code",
      "metadata": {
        "id": "l7nYanp2qDFO",
        "colab_type": "code",
        "colab": {
          "base_uri": "https://localhost:8080/",
          "height": 296
        },
        "outputId": "51e90800-c91a-4cc2-818d-f2ce79a3b641"
      },
      "source": [
        "flights_by_day_of_the_month['year'].plot(kind = \"line\")"
      ],
      "execution_count": 9,
      "outputs": [
        {
          "output_type": "execute_result",
          "data": {
            "text/plain": [
              "<matplotlib.axes._subplots.AxesSubplot at 0x7f396f9b1f60>"
            ]
          },
          "metadata": {
            "tags": []
          },
          "execution_count": 9
        },
        {
          "output_type": "display_data",
          "data": {
            "image/png": "[encoded data removed]",
            "text/plain": [
              "<Figure size 432x288 with 1 Axes>"
            ]
          },
          "metadata": {
            "tags": [],
            "needs_background": "light"
          }
        }
      ]
    },
    {
      "cell_type": "markdown",
      "metadata": {
        "id": "O2fkFRSrS5-K",
        "colab_type": "text"
      },
      "source": [
        "What does the distribution of departure delays look like?"
      ]
    },
    {
      "cell_type": "code",
      "metadata": {
        "id": "QykYzgLuqEhd",
        "colab_type": "code",
        "colab": {
          "base_uri": "https://localhost:8080/",
          "height": 587
        },
        "outputId": "26c75861-7298-407e-c713-f4211e92f2d0"
      },
      "source": [
        "(\n",
        "    ggplot(\n",
        "        aes(x = \"dep_delay\"),\n",
        "        data = flights\n",
        "    ) + \n",
        "    geom_histogram() +\n",
        "    facet_wrap('~ origin') +\n",
        "    xlim((-50, 250)) +\n",
        "    theme_light()\n",
        ")"
      ],
      "execution_count": 10,
      "outputs": [
        {
          "output_type": "stream",
          "text": [
            "/usr/local/lib/python3.6/dist-packages/plotnine/stats/stat_bin.py:93: PlotnineWarning: 'stat_bin()' using 'bins = 567'. Pick better value with 'binwidth'.\n",
            "  warn(msg.format(params['bins']), PlotnineWarning)\n",
            "/usr/local/lib/python3.6/dist-packages/plotnine/layer.py:360: PlotnineWarning: stat_bin : Removed 9566 rows containing non-finite values.\n",
            "  data = self.stat.compute_layer(data, params, layout)\n",
            "/usr/local/lib/python3.6/dist-packages/plotnine/layer.py:452: PlotnineWarning: geom_histogram : Removed 6 rows containing missing values.\n",
            "  self.data = self.geom.handle_na(self.data)\n"
          ],
          "name": "stderr"
        },
        {
          "output_type": "display_data",
          "data": {
            "image/png": "[encoded data removed]",
            "text/plain": [
              "<Figure size 640x480 with 3 Axes>"
            ]
          },
          "metadata": {
            "tags": []
          }
        },
        {
          "output_type": "execute_result",
          "data": {
            "text/plain": [
              "<ggplot: (-9223363294063400374)>"
            ]
          },
          "metadata": {
            "tags": []
          },
          "execution_count": 10
        }
      ]
    },
    {
      "cell_type": "code",
      "metadata": {
        "id": "F8KOZXnhq9rc",
        "colab_type": "code",
        "colab": {}
      },
      "source": [
        ""
      ],
      "execution_count": 10,
      "outputs": []
    }
  ]
}