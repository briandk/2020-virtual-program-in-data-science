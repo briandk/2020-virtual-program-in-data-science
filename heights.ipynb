{
  "nbformat": 4,
  "nbformat_minor": 0,
  "metadata": {
    "kernelspec": {
      "display_name": "Python 3",
      "language": "python",
      "name": "python3"
    },
    "language_info": {
      "codemirror_mode": {
        "name": "ipython",
        "version": 3
      },
      "file_extension": ".py",
      "mimetype": "text/x-python",
      "name": "python",
      "nbconvert_exporter": "python",
      "pygments_lexer": "ipython3",
      "version": "3.7.7"
    },
    "colab": {
      "name": "heights.ipynb",
      "provenance": [],
      "include_colab_link": true
    }
  },
  "cells": [
    {
      "cell_type": "markdown",
      "metadata": {
        "id": "view-in-github",
        "colab_type": "text"
      },
      "source": [
        "<a href=\"https://colab.research.google.com/github/briandk/2020-virtual-program-in-data-science/blob/master/heights.ipynb\" target=\"_parent\"><img src=\"https://colab.research.google.com/assets/colab-badge.svg\" alt=\"Open In Colab\"/></a>"
      ]
    },
    {
      "cell_type": "code",
      "metadata": {
        "id": "26uZT32CDksl",
        "colab_type": "code",
        "colab": {}
      },
      "source": [
        "import pandas as pd\n",
        "\n",
        "from plotnine import *"
      ],
      "execution_count": 4,
      "outputs": []
    },
    {
      "cell_type": "code",
      "metadata": {
        "id": "vVkrcPX0DmJi",
        "colab_type": "code",
        "colab": {}
      },
      "source": [
        "heights = pd.read_csv(\"https://github.com/briandk/2020-virtual-program-in-data-science/raw/master/data/heights.csv\")"
      ],
      "execution_count": 2,
      "outputs": []
    },
    {
      "cell_type": "markdown",
      "metadata": {
        "id": "8D7noQ_6D11a",
        "colab_type": "text"
      },
      "source": [
        "Let's first get an overall sense of the data."
      ]
    },
    {
      "cell_type": "code",
      "metadata": {
        "id": "3xmft5T-DtoE",
        "colab_type": "code",
        "colab": {
          "base_uri": "https://localhost:8080/",
          "height": 419
        },
        "outputId": "0a0ca49e-825a-4805-96d1-b422e0056fb0"
      },
      "source": [
        "heights"
      ],
      "execution_count": 3,
      "outputs": [
        {
          "output_type": "execute_result",
          "data": {
            "text/html": [
              "<div>\n",
              "<style scoped>\n",
              "    .dataframe tbody tr th:only-of-type {\n",
              "        vertical-align: middle;\n",
              "    }\n",
              "\n",
              "    .dataframe tbody tr th {\n",
              "        vertical-align: top;\n",
              "    }\n",
              "\n",
              "    .dataframe thead th {\n",
              "        text-align: right;\n",
              "    }\n",
              "</style>\n",
              "<table border=\"1\" class=\"dataframe\">\n",
              "  <thead>\n",
              "    <tr style=\"text-align: right;\">\n",
              "      <th></th>\n",
              "      <th>earn</th>\n",
              "      <th>height</th>\n",
              "      <th>sex</th>\n",
              "      <th>ed</th>\n",
              "      <th>age</th>\n",
              "      <th>race</th>\n",
              "    </tr>\n",
              "  </thead>\n",
              "  <tbody>\n",
              "    <tr>\n",
              "      <th>0</th>\n",
              "      <td>50000.0</td>\n",
              "      <td>74.424439</td>\n",
              "      <td>male</td>\n",
              "      <td>16</td>\n",
              "      <td>45</td>\n",
              "      <td>white</td>\n",
              "    </tr>\n",
              "    <tr>\n",
              "      <th>1</th>\n",
              "      <td>60000.0</td>\n",
              "      <td>65.537543</td>\n",
              "      <td>female</td>\n",
              "      <td>16</td>\n",
              "      <td>58</td>\n",
              "      <td>white</td>\n",
              "    </tr>\n",
              "    <tr>\n",
              "      <th>2</th>\n",
              "      <td>30000.0</td>\n",
              "      <td>63.629198</td>\n",
              "      <td>female</td>\n",
              "      <td>16</td>\n",
              "      <td>29</td>\n",
              "      <td>white</td>\n",
              "    </tr>\n",
              "    <tr>\n",
              "      <th>3</th>\n",
              "      <td>50000.0</td>\n",
              "      <td>63.108562</td>\n",
              "      <td>female</td>\n",
              "      <td>16</td>\n",
              "      <td>91</td>\n",
              "      <td>other</td>\n",
              "    </tr>\n",
              "    <tr>\n",
              "      <th>4</th>\n",
              "      <td>51000.0</td>\n",
              "      <td>63.402484</td>\n",
              "      <td>female</td>\n",
              "      <td>17</td>\n",
              "      <td>39</td>\n",
              "      <td>white</td>\n",
              "    </tr>\n",
              "    <tr>\n",
              "      <th>...</th>\n",
              "      <td>...</td>\n",
              "      <td>...</td>\n",
              "      <td>...</td>\n",
              "      <td>...</td>\n",
              "      <td>...</td>\n",
              "      <td>...</td>\n",
              "    </tr>\n",
              "    <tr>\n",
              "      <th>1187</th>\n",
              "      <td>19000.0</td>\n",
              "      <td>72.165733</td>\n",
              "      <td>male</td>\n",
              "      <td>12</td>\n",
              "      <td>29</td>\n",
              "      <td>white</td>\n",
              "    </tr>\n",
              "    <tr>\n",
              "      <th>1188</th>\n",
              "      <td>15000.0</td>\n",
              "      <td>61.135800</td>\n",
              "      <td>female</td>\n",
              "      <td>18</td>\n",
              "      <td>82</td>\n",
              "      <td>white</td>\n",
              "    </tr>\n",
              "    <tr>\n",
              "      <th>1189</th>\n",
              "      <td>8000.0</td>\n",
              "      <td>63.664164</td>\n",
              "      <td>female</td>\n",
              "      <td>12</td>\n",
              "      <td>33</td>\n",
              "      <td>white</td>\n",
              "    </tr>\n",
              "    <tr>\n",
              "      <th>1190</th>\n",
              "      <td>60000.0</td>\n",
              "      <td>71.925836</td>\n",
              "      <td>male</td>\n",
              "      <td>12</td>\n",
              "      <td>50</td>\n",
              "      <td>white</td>\n",
              "    </tr>\n",
              "    <tr>\n",
              "      <th>1191</th>\n",
              "      <td>6000.0</td>\n",
              "      <td>68.368486</td>\n",
              "      <td>male</td>\n",
              "      <td>12</td>\n",
              "      <td>27</td>\n",
              "      <td>white</td>\n",
              "    </tr>\n",
              "  </tbody>\n",
              "</table>\n",
              "<p>1192 rows × 6 columns</p>\n",
              "</div>"
            ],
            "text/plain": [
              "         earn     height     sex  ed  age   race\n",
              "0     50000.0  74.424439    male  16   45  white\n",
              "1     60000.0  65.537543  female  16   58  white\n",
              "2     30000.0  63.629198  female  16   29  white\n",
              "3     50000.0  63.108562  female  16   91  other\n",
              "4     51000.0  63.402484  female  17   39  white\n",
              "...       ...        ...     ...  ..  ...    ...\n",
              "1187  19000.0  72.165733    male  12   29  white\n",
              "1188  15000.0  61.135800  female  18   82  white\n",
              "1189   8000.0  63.664164  female  12   33  white\n",
              "1190  60000.0  71.925836    male  12   50  white\n",
              "1191   6000.0  68.368486    male  12   27  white\n",
              "\n",
              "[1192 rows x 6 columns]"
            ]
          },
          "metadata": {
            "tags": []
          },
          "execution_count": 3
        }
      ]
    },
    {
      "cell_type": "markdown",
      "metadata": {
        "id": "95GrpWT9EB68",
        "colab_type": "text"
      },
      "source": [
        "What if we look at the distributions of height by sex?*\n",
        "\n",
        "\\* - Sex and gender are *not* the same thing. And there are many discussions to be had about their differences. Suffice it to say that this data assumes sex is binary and reports it as such. But you don't have to. [**Gender is a text field**][1].\n",
        "\n",
        "[1]: http://www.sarahmei.com/blog/2010/11/26/disalienation/"
      ]
    },
    {
      "cell_type": "code",
      "metadata": {
        "id": "1hDJqG7SD4uX",
        "colab_type": "code",
        "colab": {
          "base_uri": "https://localhost:8080/",
          "height": 498
        },
        "outputId": "9edd71d4-7dd7-4db0-edf6-10bd0b0ffd5a"
      },
      "source": [
        "(\n",
        "    ggplot(\n",
        "        aes(x = 'height',\n",
        "            fill = 'sex'),\n",
        "        data = heights\n",
        "    ) +\n",
        "    geom_histogram() +\n",
        "    scale_fill_brewer(type='qual') +\n",
        "    theme_light()\n",
        ")"
      ],
      "execution_count": 14,
      "outputs": [
        {
          "output_type": "stream",
          "text": [
            "/usr/local/lib/python3.6/dist-packages/plotnine/stats/stat_bin.py:93: PlotnineWarning: 'stat_bin()' using 'bins = 18'. Pick better value with 'binwidth'.\n",
            "  warn(msg.format(params['bins']), PlotnineWarning)\n"
          ],
          "name": "stderr"
        },
        {
          "output_type": "display_data",
          "data": {
            "image/png": "[encoded data removed]",
            "text/plain": [
              "<Figure size 640x480 with 1 Axes>"
            ]
          },
          "metadata": {
            "tags": []
          }
        },
        {
          "output_type": "execute_result",
          "data": {
            "text/plain": [
              "<ggplot: (8789166971975)>"
            ]
          },
          "metadata": {
            "tags": []
          },
          "execution_count": 14
        }
      ]
    },
    {
      "cell_type": "markdown",
      "metadata": {
        "id": "YwxWTk12E1WE",
        "colab_type": "text"
      },
      "source": [
        "Another way of looking at distributions is to look at a smoothed kernel density estimate, which is the continuous analog of a histogram. We're doing a similar process of binning, we just get a less jagged, more smooth distribution"
      ]
    },
    {
      "cell_type": "code",
      "metadata": {
        "id": "usCqzz8JEdw4",
        "colab_type": "code",
        "colab": {
          "base_uri": "https://localhost:8080/",
          "height": 464
        },
        "outputId": "c36d6541-e135-4815-adbd-1da661d2ca2e"
      },
      "source": [
        "(\n",
        "    ggplot(\n",
        "        aes(x = 'height',\n",
        "            color = 'sex'),\n",
        "        data = heights\n",
        "    ) +\n",
        "    geom_density() +\n",
        "    scale_color_brewer(type='qual')\n",
        ")"
      ],
      "execution_count": 16,
      "outputs": [
        {
          "output_type": "display_data",
          "data": {
            "image/png": "[encoded data removed]",
            "text/plain": [
              "<Figure size 640x480 with 1 Axes>"
            ]
          },
          "metadata": {
            "tags": []
          }
        },
        {
          "output_type": "execute_result",
          "data": {
            "text/plain": [
              "<ggplot: (-9223363247687986183)>"
            ]
          },
          "metadata": {
            "tags": []
          },
          "execution_count": 16
        }
      ]
    },
    {
      "cell_type": "markdown",
      "metadata": {
        "id": "HJ0kYFr4FxW4",
        "colab_type": "text"
      },
      "source": [
        "The distributions definitely overlap. It almost looks as if there are more females in this dataset than males. "
      ]
    },
    {
      "cell_type": "code",
      "metadata": {
        "id": "JowAWKNPEjz3",
        "colab_type": "code",
        "colab": {
          "base_uri": "https://localhost:8080/",
          "height": 142
        },
        "outputId": "887e6ea1-f14f-400a-cbaf-81c0b4cf0dbc"
      },
      "source": [
        "heights.groupby('sex').count()"
      ],
      "execution_count": 24,
      "outputs": [
        {
          "output_type": "execute_result",
          "data": {
            "text/html": [
              "<div>\n",
              "<style scoped>\n",
              "    .dataframe tbody tr th:only-of-type {\n",
              "        vertical-align: middle;\n",
              "    }\n",
              "\n",
              "    .dataframe tbody tr th {\n",
              "        vertical-align: top;\n",
              "    }\n",
              "\n",
              "    .dataframe thead th {\n",
              "        text-align: right;\n",
              "    }\n",
              "</style>\n",
              "<table border=\"1\" class=\"dataframe\">\n",
              "  <thead>\n",
              "    <tr style=\"text-align: right;\">\n",
              "      <th></th>\n",
              "      <th>earn</th>\n",
              "      <th>height</th>\n",
              "      <th>ed</th>\n",
              "      <th>age</th>\n",
              "      <th>race</th>\n",
              "    </tr>\n",
              "    <tr>\n",
              "      <th>sex</th>\n",
              "      <th></th>\n",
              "      <th></th>\n",
              "      <th></th>\n",
              "      <th></th>\n",
              "      <th></th>\n",
              "    </tr>\n",
              "  </thead>\n",
              "  <tbody>\n",
              "    <tr>\n",
              "      <th>female</th>\n",
              "      <td>687</td>\n",
              "      <td>687</td>\n",
              "      <td>687</td>\n",
              "      <td>687</td>\n",
              "      <td>687</td>\n",
              "    </tr>\n",
              "    <tr>\n",
              "      <th>male</th>\n",
              "      <td>505</td>\n",
              "      <td>505</td>\n",
              "      <td>505</td>\n",
              "      <td>505</td>\n",
              "      <td>505</td>\n",
              "    </tr>\n",
              "  </tbody>\n",
              "</table>\n",
              "</div>"
            ],
            "text/plain": [
              "        earn  height   ed  age  race\n",
              "sex                                 \n",
              "female   687     687  687  687   687\n",
              "male     505     505  505  505   505"
            ]
          },
          "metadata": {
            "tags": []
          },
          "execution_count": 24
        }
      ]
    },
    {
      "cell_type": "markdown",
      "metadata": {
        "id": "OeJh1oS0G6JD",
        "colab_type": "text"
      },
      "source": [
        "Looks like we were right! There are about 182 more women represented in this dataset than there are men. Let's get some summary statistics on the two groups."
      ]
    },
    {
      "cell_type": "code",
      "metadata": {
        "id": "2AL79oD5FLLx",
        "colab_type": "code",
        "colab": {
          "base_uri": "https://localhost:8080/",
          "height": 173
        },
        "outputId": "eb42c5be-59ea-4100-bfb2-d481ef225457"
      },
      "source": [
        "heights[['sex', 'height']].groupby('sex').describe()"
      ],
      "execution_count": 26,
      "outputs": [
        {
          "output_type": "execute_result",
          "data": {
            "text/html": [
              "<div>\n",
              "<style scoped>\n",
              "    .dataframe tbody tr th:only-of-type {\n",
              "        vertical-align: middle;\n",
              "    }\n",
              "\n",
              "    .dataframe tbody tr th {\n",
              "        vertical-align: top;\n",
              "    }\n",
              "\n",
              "    .dataframe thead tr th {\n",
              "        text-align: left;\n",
              "    }\n",
              "\n",
              "    .dataframe thead tr:last-of-type th {\n",
              "        text-align: right;\n",
              "    }\n",
              "</style>\n",
              "<table border=\"1\" class=\"dataframe\">\n",
              "  <thead>\n",
              "    <tr>\n",
              "      <th></th>\n",
              "      <th colspan=\"8\" halign=\"left\">height</th>\n",
              "    </tr>\n",
              "    <tr>\n",
              "      <th></th>\n",
              "      <th>count</th>\n",
              "      <th>mean</th>\n",
              "      <th>std</th>\n",
              "      <th>min</th>\n",
              "      <th>25%</th>\n",
              "      <th>50%</th>\n",
              "      <th>75%</th>\n",
              "      <th>max</th>\n",
              "    </tr>\n",
              "    <tr>\n",
              "      <th>sex</th>\n",
              "      <th></th>\n",
              "      <th></th>\n",
              "      <th></th>\n",
              "      <th></th>\n",
              "      <th></th>\n",
              "      <th></th>\n",
              "      <th></th>\n",
              "      <th></th>\n",
              "    </tr>\n",
              "  </thead>\n",
              "  <tbody>\n",
              "    <tr>\n",
              "      <th>female</th>\n",
              "      <td>687.0</td>\n",
              "      <td>64.605603</td>\n",
              "      <td>2.612435</td>\n",
              "      <td>57.503219</td>\n",
              "      <td>62.873501</td>\n",
              "      <td>64.372563</td>\n",
              "      <td>66.276499</td>\n",
              "      <td>75.156660</td>\n",
              "    </tr>\n",
              "    <tr>\n",
              "      <th>male</th>\n",
              "      <td>505.0</td>\n",
              "      <td>70.057058</td>\n",
              "      <td>2.940739</td>\n",
              "      <td>60.298791</td>\n",
              "      <td>68.107790</td>\n",
              "      <td>70.277548</td>\n",
              "      <td>72.085957</td>\n",
              "      <td>77.051282</td>\n",
              "    </tr>\n",
              "  </tbody>\n",
              "</table>\n",
              "</div>"
            ],
            "text/plain": [
              "       height                       ...                                 \n",
              "        count       mean       std  ...        50%        75%        max\n",
              "sex                                 ...                                 \n",
              "female  687.0  64.605603  2.612435  ...  64.372563  66.276499  75.156660\n",
              "male    505.0  70.057058  2.940739  ...  70.277548  72.085957  77.051282\n",
              "\n",
              "[2 rows x 8 columns]"
            ]
          },
          "metadata": {
            "tags": []
          },
          "execution_count": 26
        }
      ]
    },
    {
      "cell_type": "markdown",
      "metadata": {
        "id": "XYxA4FUgH1SE",
        "colab_type": "text"
      },
      "source": [
        "Both of these distributions are skewed right, which means they have a longer tail to the right than they do to the left. For that reason, we don't necessarily expect the mean and mode to be the same. Rather, the mean \"chases\" the outlier values---which in this case are the super tall people."
      ]
    },
    {
      "cell_type": "code",
      "metadata": {
        "id": "wQGL3GWCHGD_",
        "colab_type": "code",
        "colab": {
          "base_uri": "https://localhost:8080/",
          "height": 464
        },
        "outputId": "69c873fe-931c-484e-b999-d246e4c26b18"
      },
      "source": [
        "mean_female_height = heights[heights['sex'] == 'female']['height'].mean()\n",
        "mean_male_height = heights[heights['sex'] == 'male']['height'].mean()\n",
        "\n",
        "(\n",
        "    ggplot(\n",
        "        aes(x = 'height',\n",
        "            color = 'sex'),\n",
        "        data = heights\n",
        "    ) +\n",
        "    geom_density() +\n",
        "    scale_color_brewer(type='qual') +\n",
        "    geom_vline(xintercept = mean_male_height, alpha = 0.5) +\n",
        "    geom_vline(xintercept = mean_female_height, alpha = 0.5)\n",
        ")\n"
      ],
      "execution_count": 36,
      "outputs": [
        {
          "output_type": "display_data",
          "data": {
            "image/png": "[encoded data removed]",
            "text/plain": [
              "<Figure size 640x480 with 1 Axes>"
            ]
          },
          "metadata": {
            "tags": []
          }
        },
        {
          "output_type": "execute_result",
          "data": {
            "text/plain": [
              "<ggplot: (-9223363247688333003)>"
            ]
          },
          "metadata": {
            "tags": []
          },
          "execution_count": 36
        }
      ]
    },
    {
      "cell_type": "markdown",
      "metadata": {
        "id": "TOsL_4oUJUIL",
        "colab_type": "text"
      },
      "source": [
        "Well, look at that. I was wrong! The mean male height actually chases the smaller height outliers, pushing it to the left of the mode (peak) of the distribution. Thus, the male height distribution is what we would call \"skewed *left*\". But the female mean height is higher than the mode, which means the female height distribution is skewed *right*."
      ]
    },
    {
      "cell_type": "markdown",
      "metadata": {
        "id": "w-rHdgxTKMhe",
        "colab_type": "text"
      },
      "source": [
        "Another thing we might be intereested in is how age breaks down by sex."
      ]
    },
    {
      "cell_type": "code",
      "metadata": {
        "id": "GHuS31i9IHny",
        "colab_type": "code",
        "colab": {
          "base_uri": "https://localhost:8080/",
          "height": 173
        },
        "outputId": "07a4502a-8e14-4d2e-c809-9e839fd32b30"
      },
      "source": [
        "heights[['sex', 'age']].groupby('sex').describe()"
      ],
      "execution_count": 40,
      "outputs": [
        {
          "output_type": "execute_result",
          "data": {
            "text/html": [
              "<div>\n",
              "<style scoped>\n",
              "    .dataframe tbody tr th:only-of-type {\n",
              "        vertical-align: middle;\n",
              "    }\n",
              "\n",
              "    .dataframe tbody tr th {\n",
              "        vertical-align: top;\n",
              "    }\n",
              "\n",
              "    .dataframe thead tr th {\n",
              "        text-align: left;\n",
              "    }\n",
              "\n",
              "    .dataframe thead tr:last-of-type th {\n",
              "        text-align: right;\n",
              "    }\n",
              "</style>\n",
              "<table border=\"1\" class=\"dataframe\">\n",
              "  <thead>\n",
              "    <tr>\n",
              "      <th></th>\n",
              "      <th colspan=\"8\" halign=\"left\">age</th>\n",
              "    </tr>\n",
              "    <tr>\n",
              "      <th></th>\n",
              "      <th>count</th>\n",
              "      <th>mean</th>\n",
              "      <th>std</th>\n",
              "      <th>min</th>\n",
              "      <th>25%</th>\n",
              "      <th>50%</th>\n",
              "      <th>75%</th>\n",
              "      <th>max</th>\n",
              "    </tr>\n",
              "    <tr>\n",
              "      <th>sex</th>\n",
              "      <th></th>\n",
              "      <th></th>\n",
              "      <th></th>\n",
              "      <th></th>\n",
              "      <th></th>\n",
              "      <th></th>\n",
              "      <th></th>\n",
              "      <th></th>\n",
              "    </tr>\n",
              "  </thead>\n",
              "  <tbody>\n",
              "    <tr>\n",
              "      <th>female</th>\n",
              "      <td>687.0</td>\n",
              "      <td>42.259098</td>\n",
              "      <td>15.931426</td>\n",
              "      <td>18.0</td>\n",
              "      <td>30.0</td>\n",
              "      <td>39.0</td>\n",
              "      <td>51.0</td>\n",
              "      <td>91.0</td>\n",
              "    </tr>\n",
              "    <tr>\n",
              "      <th>male</th>\n",
              "      <td>505.0</td>\n",
              "      <td>40.180198</td>\n",
              "      <td>15.716524</td>\n",
              "      <td>18.0</td>\n",
              "      <td>28.0</td>\n",
              "      <td>37.0</td>\n",
              "      <td>50.0</td>\n",
              "      <td>91.0</td>\n",
              "    </tr>\n",
              "  </tbody>\n",
              "</table>\n",
              "</div>"
            ],
            "text/plain": [
              "          age                                                    \n",
              "        count       mean        std   min   25%   50%   75%   max\n",
              "sex                                                              \n",
              "female  687.0  42.259098  15.931426  18.0  30.0  39.0  51.0  91.0\n",
              "male    505.0  40.180198  15.716524  18.0  28.0  37.0  50.0  91.0"
            ]
          },
          "metadata": {
            "tags": []
          },
          "execution_count": 40
        }
      ]
    },
    {
      "cell_type": "markdown",
      "metadata": {
        "id": "3lfYNYJFKp63",
        "colab_type": "text"
      },
      "source": [
        "Let's try visualizing the age distributions:"
      ]
    },
    {
      "cell_type": "code",
      "metadata": {
        "id": "Jn1pIYwoKUw7",
        "colab_type": "code",
        "colab": {
          "base_uri": "https://localhost:8080/",
          "height": 464
        },
        "outputId": "989cca3a-4d07-436e-fc1a-1e01494629e2"
      },
      "source": [
        "(\n",
        "    ggplot(\n",
        "        aes(\n",
        "            x = 'age',\n",
        "            color = 'sex'\n",
        "        ), data = heights\n",
        "    ) +\n",
        "    geom_density() +\n",
        "    scale_color_brewer(type = 'qual', palette = 1) +\n",
        "    theme_light()\n",
        ")"
      ],
      "execution_count": 43,
      "outputs": [
        {
          "output_type": "display_data",
          "data": {
            "image/png": "[encoded data removed]",
            "text/plain": [
              "<Figure size 640x480 with 1 Axes>"
            ]
          },
          "metadata": {
            "tags": []
          }
        },
        {
          "output_type": "execute_result",
          "data": {
            "text/plain": [
              "<ggplot: (8789167007338)>"
            ]
          },
          "metadata": {
            "tags": []
          },
          "execution_count": 43
        }
      ]
    },
    {
      "cell_type": "markdown",
      "metadata": {
        "id": "1zg2lrjjLSjO",
        "colab_type": "text"
      },
      "source": [
        "Well look at that! The distributions are definitely skewed right. Moreover, there's this hard cutoff on the left side of each distribution. That cutoff looks to be right at age 18, which would make sense: children under the age of 18 probably weren't allowed to participate in the study."
      ]
    },
    {
      "cell_type": "code",
      "metadata": {
        "id": "GN5rM12xK-mW",
        "colab_type": "code",
        "colab": {}
      },
      "source": [
        ""
      ],
      "execution_count": null,
      "outputs": []
    }
  ]
}