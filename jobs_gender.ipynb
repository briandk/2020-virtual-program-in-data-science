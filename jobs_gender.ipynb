{
  "nbformat": 4,
  "nbformat_minor": 0,
  "metadata": {
    "kernelspec": {
      "display_name": "Python 3",
      "language": "python",
      "name": "python3"
    },
    "language_info": {
      "codemirror_mode": {
        "name": "ipython",
        "version": 3
      },
      "file_extension": ".py",
      "mimetype": "text/x-python",
      "name": "python",
      "nbconvert_exporter": "python",
      "pygments_lexer": "ipython3",
      "version": "3.7.7"
    },
    "colab": {
      "name": "jobs_gender.ipynb",
      "provenance": [],
      "include_colab_link": true
    }
  },
  "cells": [
    {
      "cell_type": "markdown",
      "metadata": {
        "id": "view-in-github",
        "colab_type": "text"
      },
      "source": [
        "<a href=\"https://colab.research.google.com/github/briandk/2020-virtual-program-in-data-science/blob/master/jobs_gender.ipynb\" target=\"_parent\"><img src=\"https://colab.research.google.com/assets/colab-badge.svg\" alt=\"Open In Colab\"/></a>"
      ]
    },
    {
      "cell_type": "markdown",
      "metadata": {
        "id": "88z0R-jlEPr1",
        "colab_type": "text"
      },
      "source": [
        "First, we import `pandas`, which we use for managing data, and `plotnine`, which we use to make visualizations"
      ]
    },
    {
      "cell_type": "code",
      "metadata": {
        "id": "yPaD6aXJ8ZOQ",
        "colab_type": "code",
        "colab": {
          "base_uri": "https://localhost:8080/",
          "height": 294
        },
        "outputId": "d95a2c3a-f096-4c84-9e72-0538deff5e35"
      },
      "source": [
        "!pip install plotnine==0.7.1 # Contains the \"reorder\" function\n",
        "                             # https://plotnine.readthedocs.io/en/stable/generated/plotnine.aes.html#plotnine.aes"
      ],
      "execution_count": 1,
      "outputs": [
        {
          "output_type": "stream",
          "text": [
            "Requirement already satisfied: plotnine==0.7.1 in /usr/local/lib/python3.6/dist-packages (0.7.1)\n",
            "Requirement already satisfied: matplotlib>=3.1.1 in /usr/local/lib/python3.6/dist-packages (from plotnine==0.7.1) (3.2.2)\n",
            "Requirement already satisfied: mizani>=0.7.1 in /usr/local/lib/python3.6/dist-packages (from plotnine==0.7.1) (0.7.1)\n",
            "Requirement already satisfied: numpy>=1.16.0 in /usr/local/lib/python3.6/dist-packages (from plotnine==0.7.1) (1.18.5)\n",
            "Requirement already satisfied: patsy>=0.5.1 in /usr/local/lib/python3.6/dist-packages (from plotnine==0.7.1) (0.5.1)\n",
            "Requirement already satisfied: scipy>=1.2.0 in /usr/local/lib/python3.6/dist-packages (from plotnine==0.7.1) (1.4.1)\n",
            "Requirement already satisfied: pandas>=1.1.0 in /usr/local/lib/python3.6/dist-packages (from plotnine==0.7.1) (1.1.0)\n",
            "Requirement already satisfied: descartes>=1.1.0 in /usr/local/lib/python3.6/dist-packages (from plotnine==0.7.1) (1.1.0)\n",
            "Requirement already satisfied: statsmodels>=0.11.1 in /usr/local/lib/python3.6/dist-packages (from plotnine==0.7.1) (0.11.1)\n",
            "Requirement already satisfied: pyparsing!=2.0.4,!=2.1.2,!=2.1.6,>=2.0.1 in /usr/local/lib/python3.6/dist-packages (from matplotlib>=3.1.1->plotnine==0.7.1) (2.4.7)\n",
            "Requirement already satisfied: python-dateutil>=2.1 in /usr/local/lib/python3.6/dist-packages (from matplotlib>=3.1.1->plotnine==0.7.1) (2.8.1)\n",
            "Requirement already satisfied: cycler>=0.10 in /usr/local/lib/python3.6/dist-packages (from matplotlib>=3.1.1->plotnine==0.7.1) (0.10.0)\n",
            "Requirement already satisfied: kiwisolver>=1.0.1 in /usr/local/lib/python3.6/dist-packages (from matplotlib>=3.1.1->plotnine==0.7.1) (1.2.0)\n",
            "Requirement already satisfied: palettable in /usr/local/lib/python3.6/dist-packages (from mizani>=0.7.1->plotnine==0.7.1) (3.3.0)\n",
            "Requirement already satisfied: six in /usr/local/lib/python3.6/dist-packages (from patsy>=0.5.1->plotnine==0.7.1) (1.15.0)\n",
            "Requirement already satisfied: pytz>=2017.2 in /usr/local/lib/python3.6/dist-packages (from pandas>=1.1.0->plotnine==0.7.1) (2018.9)\n"
          ],
          "name": "stdout"
        }
      ]
    },
    {
      "cell_type": "code",
      "metadata": {
        "id": "wThUdCBoEBdy",
        "colab_type": "code",
        "colab": {}
      },
      "source": [
        "import pandas as pd\n",
        "\n",
        "from plotnine import *"
      ],
      "execution_count": 2,
      "outputs": []
    },
    {
      "cell_type": "code",
      "metadata": {
        "id": "guLni88oEESX",
        "colab_type": "code",
        "colab": {}
      },
      "source": [
        "jobs = pd.read_csv('https://github.com/briandk/2020-virtual-program-in-data-science/raw/master/data/jobs_gender.csv')"
      ],
      "execution_count": 3,
      "outputs": []
    },
    {
      "cell_type": "markdown",
      "metadata": {
        "id": "oeYz_bvUEOYi",
        "colab_type": "text"
      },
      "source": [
        "OK, let's first get a high-level look at the data."
      ]
    },
    {
      "cell_type": "code",
      "metadata": {
        "id": "d7P2v0JSEhsL",
        "colab_type": "code",
        "colab": {
          "base_uri": "https://localhost:8080/",
          "height": 876
        },
        "outputId": "1da06e47-d758-4a6d-9c22-bd9c5f0b7cbd"
      },
      "source": [
        "jobs"
      ],
      "execution_count": 5,
      "outputs": [
        {
          "output_type": "execute_result",
          "data": {
            "text/html": [
              "<div>\n",
              "<style scoped>\n",
              "    .dataframe tbody tr th:only-of-type {\n",
              "        vertical-align: middle;\n",
              "    }\n",
              "\n",
              "    .dataframe tbody tr th {\n",
              "        vertical-align: top;\n",
              "    }\n",
              "\n",
              "    .dataframe thead th {\n",
              "        text-align: right;\n",
              "    }\n",
              "</style>\n",
              "<table border=\"1\" class=\"dataframe\">\n",
              "  <thead>\n",
              "    <tr style=\"text-align: right;\">\n",
              "      <th></th>\n",
              "      <th>year</th>\n",
              "      <th>occupation</th>\n",
              "      <th>major_category</th>\n",
              "      <th>minor_category</th>\n",
              "      <th>total_workers</th>\n",
              "      <th>workers_male</th>\n",
              "      <th>workers_female</th>\n",
              "      <th>percent_female</th>\n",
              "      <th>total_earnings</th>\n",
              "      <th>total_earnings_male</th>\n",
              "      <th>total_earnings_female</th>\n",
              "      <th>wage_percent_of_male</th>\n",
              "    </tr>\n",
              "  </thead>\n",
              "  <tbody>\n",
              "    <tr>\n",
              "      <th>0</th>\n",
              "      <td>2013</td>\n",
              "      <td>Chief executives</td>\n",
              "      <td>Management, Business, and Financial</td>\n",
              "      <td>Management</td>\n",
              "      <td>1024259</td>\n",
              "      <td>782400</td>\n",
              "      <td>241859</td>\n",
              "      <td>23.600000</td>\n",
              "      <td>120254</td>\n",
              "      <td>126142.0</td>\n",
              "      <td>95921.0</td>\n",
              "      <td>76.042080</td>\n",
              "    </tr>\n",
              "    <tr>\n",
              "      <th>1</th>\n",
              "      <td>2013</td>\n",
              "      <td>General and operations managers</td>\n",
              "      <td>Management, Business, and Financial</td>\n",
              "      <td>Management</td>\n",
              "      <td>977284</td>\n",
              "      <td>681627</td>\n",
              "      <td>295657</td>\n",
              "      <td>30.300000</td>\n",
              "      <td>73557</td>\n",
              "      <td>81041.0</td>\n",
              "      <td>60759.0</td>\n",
              "      <td>74.973162</td>\n",
              "    </tr>\n",
              "    <tr>\n",
              "      <th>2</th>\n",
              "      <td>2013</td>\n",
              "      <td>Legislators</td>\n",
              "      <td>Management, Business, and Financial</td>\n",
              "      <td>Management</td>\n",
              "      <td>14815</td>\n",
              "      <td>8375</td>\n",
              "      <td>6440</td>\n",
              "      <td>43.500000</td>\n",
              "      <td>67155</td>\n",
              "      <td>71530.0</td>\n",
              "      <td>65325.0</td>\n",
              "      <td>91.325318</td>\n",
              "    </tr>\n",
              "    <tr>\n",
              "      <th>3</th>\n",
              "      <td>2013</td>\n",
              "      <td>Advertising and promotions managers</td>\n",
              "      <td>Management, Business, and Financial</td>\n",
              "      <td>Management</td>\n",
              "      <td>43015</td>\n",
              "      <td>17775</td>\n",
              "      <td>25240</td>\n",
              "      <td>58.700000</td>\n",
              "      <td>61371</td>\n",
              "      <td>75190.0</td>\n",
              "      <td>55860.0</td>\n",
              "      <td>74.291794</td>\n",
              "    </tr>\n",
              "    <tr>\n",
              "      <th>4</th>\n",
              "      <td>2013</td>\n",
              "      <td>Marketing and sales managers</td>\n",
              "      <td>Management, Business, and Financial</td>\n",
              "      <td>Management</td>\n",
              "      <td>754514</td>\n",
              "      <td>440078</td>\n",
              "      <td>314436</td>\n",
              "      <td>41.700000</td>\n",
              "      <td>78455</td>\n",
              "      <td>91998.0</td>\n",
              "      <td>65040.0</td>\n",
              "      <td>70.697189</td>\n",
              "    </tr>\n",
              "    <tr>\n",
              "      <th>...</th>\n",
              "      <td>...</td>\n",
              "      <td>...</td>\n",
              "      <td>...</td>\n",
              "      <td>...</td>\n",
              "      <td>...</td>\n",
              "      <td>...</td>\n",
              "      <td>...</td>\n",
              "      <td>...</td>\n",
              "      <td>...</td>\n",
              "      <td>...</td>\n",
              "      <td>...</td>\n",
              "      <td>...</td>\n",
              "    </tr>\n",
              "    <tr>\n",
              "      <th>2083</th>\n",
              "      <td>2016</td>\n",
              "      <td>Pumping station operators</td>\n",
              "      <td>Production, Transportation, and Material Moving</td>\n",
              "      <td>Material Moving</td>\n",
              "      <td>19540</td>\n",
              "      <td>18917</td>\n",
              "      <td>623</td>\n",
              "      <td>3.188332</td>\n",
              "      <td>62096</td>\n",
              "      <td>62053.0</td>\n",
              "      <td>67083.0</td>\n",
              "      <td>NaN</td>\n",
              "    </tr>\n",
              "    <tr>\n",
              "      <th>2084</th>\n",
              "      <td>2016</td>\n",
              "      <td>Refuse and recyclable material collectors</td>\n",
              "      <td>Production, Transportation, and Material Moving</td>\n",
              "      <td>Material Moving</td>\n",
              "      <td>65170</td>\n",
              "      <td>58851</td>\n",
              "      <td>6319</td>\n",
              "      <td>9.696179</td>\n",
              "      <td>32367</td>\n",
              "      <td>34488.0</td>\n",
              "      <td>24268.0</td>\n",
              "      <td>NaN</td>\n",
              "    </tr>\n",
              "    <tr>\n",
              "      <th>2085</th>\n",
              "      <td>2016</td>\n",
              "      <td>Mine shuttle car operators</td>\n",
              "      <td>Production, Transportation, and Material Moving</td>\n",
              "      <td>Material Moving</td>\n",
              "      <td>732</td>\n",
              "      <td>722</td>\n",
              "      <td>10</td>\n",
              "      <td>1.366120</td>\n",
              "      <td>43866</td>\n",
              "      <td>43808.0</td>\n",
              "      <td>NaN</td>\n",
              "      <td>NaN</td>\n",
              "    </tr>\n",
              "    <tr>\n",
              "      <th>2086</th>\n",
              "      <td>2016</td>\n",
              "      <td>Tank car, truck, and ship loaders</td>\n",
              "      <td>Production, Transportation, and Material Moving</td>\n",
              "      <td>Material Moving</td>\n",
              "      <td>4198</td>\n",
              "      <td>4155</td>\n",
              "      <td>43</td>\n",
              "      <td>1.024297</td>\n",
              "      <td>44079</td>\n",
              "      <td>44487.0</td>\n",
              "      <td>NaN</td>\n",
              "      <td>NaN</td>\n",
              "    </tr>\n",
              "    <tr>\n",
              "      <th>2087</th>\n",
              "      <td>2016</td>\n",
              "      <td>Material moving workers, all other</td>\n",
              "      <td>Production, Transportation, and Material Moving</td>\n",
              "      <td>Material Moving</td>\n",
              "      <td>31072</td>\n",
              "      <td>26478</td>\n",
              "      <td>4594</td>\n",
              "      <td>14.785015</td>\n",
              "      <td>35716</td>\n",
              "      <td>36013.0</td>\n",
              "      <td>31922.0</td>\n",
              "      <td>NaN</td>\n",
              "    </tr>\n",
              "  </tbody>\n",
              "</table>\n",
              "<p>2088 rows × 12 columns</p>\n",
              "</div>"
            ],
            "text/plain": [
              "      year  ... wage_percent_of_male\n",
              "0     2013  ...            76.042080\n",
              "1     2013  ...            74.973162\n",
              "2     2013  ...            91.325318\n",
              "3     2013  ...            74.291794\n",
              "4     2013  ...            70.697189\n",
              "...    ...  ...                  ...\n",
              "2083  2016  ...                  NaN\n",
              "2084  2016  ...                  NaN\n",
              "2085  2016  ...                  NaN\n",
              "2086  2016  ...                  NaN\n",
              "2087  2016  ...                  NaN\n",
              "\n",
              "[2088 rows x 12 columns]"
            ]
          },
          "metadata": {
            "tags": []
          },
          "execution_count": 5
        }
      ]
    },
    {
      "cell_type": "markdown",
      "metadata": {
        "id": "MMZ9DaQrEjmf",
        "colab_type": "text"
      },
      "source": [
        "One question we might ask is \"what's the mean earnings per major category, broken down by gender?\""
      ]
    },
    {
      "cell_type": "code",
      "metadata": {
        "id": "c7nZZAS-E1rm",
        "colab_type": "code",
        "colab": {
          "base_uri": "https://localhost:8080/",
          "height": 318
        },
        "outputId": "ed294bf5-6b06-44de-d738-cbeca319a137"
      },
      "source": [
        "breakdown_by_category = jobs[['major_category', 'total_earnings_male', 'total_earnings_female']]\n",
        "breakdown_by_category = breakdown_by_category.groupby('major_category').mean().sort_values('total_earnings_male', ascending = False)\n",
        "\n",
        "breakdown_by_category"
      ],
      "execution_count": 6,
      "outputs": [
        {
          "output_type": "execute_result",
          "data": {
            "text/html": [
              "<div>\n",
              "<style scoped>\n",
              "    .dataframe tbody tr th:only-of-type {\n",
              "        vertical-align: middle;\n",
              "    }\n",
              "\n",
              "    .dataframe tbody tr th {\n",
              "        vertical-align: top;\n",
              "    }\n",
              "\n",
              "    .dataframe thead th {\n",
              "        text-align: right;\n",
              "    }\n",
              "</style>\n",
              "<table border=\"1\" class=\"dataframe\">\n",
              "  <thead>\n",
              "    <tr style=\"text-align: right;\">\n",
              "      <th></th>\n",
              "      <th>total_earnings_male</th>\n",
              "      <th>total_earnings_female</th>\n",
              "    </tr>\n",
              "    <tr>\n",
              "      <th>major_category</th>\n",
              "      <th></th>\n",
              "      <th></th>\n",
              "    </tr>\n",
              "  </thead>\n",
              "  <tbody>\n",
              "    <tr>\n",
              "      <th>Healthcare Practitioners and Technical</th>\n",
              "      <td>81486.814516</td>\n",
              "      <td>68887.460938</td>\n",
              "    </tr>\n",
              "    <tr>\n",
              "      <th>Computer, Engineering, and Science</th>\n",
              "      <td>80204.300847</td>\n",
              "      <td>69427.306383</td>\n",
              "    </tr>\n",
              "    <tr>\n",
              "      <th>Management, Business, and Financial</th>\n",
              "      <td>73717.344828</td>\n",
              "      <td>59070.357759</td>\n",
              "    </tr>\n",
              "    <tr>\n",
              "      <th>Education, Legal, Community Service, Arts, and Media</th>\n",
              "      <td>54402.952381</td>\n",
              "      <td>46257.660714</td>\n",
              "    </tr>\n",
              "    <tr>\n",
              "      <th>Sales and Office</th>\n",
              "      <td>44986.889286</td>\n",
              "      <td>37105.946429</td>\n",
              "    </tr>\n",
              "    <tr>\n",
              "      <th>Natural Resources, Construction, and Maintenance</th>\n",
              "      <td>44270.042683</td>\n",
              "      <td>38549.106383</td>\n",
              "    </tr>\n",
              "    <tr>\n",
              "      <th>Production, Transportation, and Material Moving</th>\n",
              "      <td>41299.601351</td>\n",
              "      <td>32437.850816</td>\n",
              "    </tr>\n",
              "    <tr>\n",
              "      <th>Service</th>\n",
              "      <td>36805.496324</td>\n",
              "      <td>31987.962825</td>\n",
              "    </tr>\n",
              "  </tbody>\n",
              "</table>\n",
              "</div>"
            ],
            "text/plain": [
              "                                                    total_earnings_male  total_earnings_female\n",
              "major_category                                                                                \n",
              "Healthcare Practitioners and Technical                     81486.814516           68887.460938\n",
              "Computer, Engineering, and Science                         80204.300847           69427.306383\n",
              "Management, Business, and Financial                        73717.344828           59070.357759\n",
              "Education, Legal, Community Service, Arts, and ...         54402.952381           46257.660714\n",
              "Sales and Office                                           44986.889286           37105.946429\n",
              "Natural Resources, Construction, and Maintenance           44270.042683           38549.106383\n",
              "Production, Transportation, and Material Moving            41299.601351           32437.850816\n",
              "Service                                                    36805.496324           31987.962825"
            ]
          },
          "metadata": {
            "tags": []
          },
          "execution_count": 6
        }
      ]
    },
    {
      "cell_type": "markdown",
      "metadata": {
        "id": "KriMxbKXFJCX",
        "colab_type": "text"
      },
      "source": [
        "One subtlety hiding in this data is that the rankings of category by salary aren't the same for males as they are for females. Namely, among males the earnings are highest in the healthcare sector, but among females the earnings are highest in the computer, engineering, and science field."
      ]
    },
    {
      "cell_type": "markdown",
      "metadata": {
        "id": "qFcwGbkBFxZZ",
        "colab_type": "text"
      },
      "source": [
        "To visualize this data, we first choose to reshape it by restting the index, then melting it."
      ]
    },
    {
      "cell_type": "code",
      "metadata": {
        "id": "yUEGewBWHRom",
        "colab_type": "code",
        "colab": {
          "base_uri": "https://localhost:8080/",
          "height": 528
        },
        "outputId": "74cbbbd3-f808-471b-9890-d353da245e7a"
      },
      "source": [
        "breakdown_by_category_vis = breakdown_by_category.reset_index('major_category').melt(id_vars = 'major_category', value_vars = ['total_earnings_male', 'total_earnings_female'])\n",
        "\n",
        "breakdown_by_category_vis.sort_values('value', ascending = False)"
      ],
      "execution_count": 7,
      "outputs": [
        {
          "output_type": "execute_result",
          "data": {
            "text/html": [
              "<div>\n",
              "<style scoped>\n",
              "    .dataframe tbody tr th:only-of-type {\n",
              "        vertical-align: middle;\n",
              "    }\n",
              "\n",
              "    .dataframe tbody tr th {\n",
              "        vertical-align: top;\n",
              "    }\n",
              "\n",
              "    .dataframe thead th {\n",
              "        text-align: right;\n",
              "    }\n",
              "</style>\n",
              "<table border=\"1\" class=\"dataframe\">\n",
              "  <thead>\n",
              "    <tr style=\"text-align: right;\">\n",
              "      <th></th>\n",
              "      <th>major_category</th>\n",
              "      <th>variable</th>\n",
              "      <th>value</th>\n",
              "    </tr>\n",
              "  </thead>\n",
              "  <tbody>\n",
              "    <tr>\n",
              "      <th>0</th>\n",
              "      <td>Healthcare Practitioners and Technical</td>\n",
              "      <td>total_earnings_male</td>\n",
              "      <td>81486.814516</td>\n",
              "    </tr>\n",
              "    <tr>\n",
              "      <th>1</th>\n",
              "      <td>Computer, Engineering, and Science</td>\n",
              "      <td>total_earnings_male</td>\n",
              "      <td>80204.300847</td>\n",
              "    </tr>\n",
              "    <tr>\n",
              "      <th>2</th>\n",
              "      <td>Management, Business, and Financial</td>\n",
              "      <td>total_earnings_male</td>\n",
              "      <td>73717.344828</td>\n",
              "    </tr>\n",
              "    <tr>\n",
              "      <th>9</th>\n",
              "      <td>Computer, Engineering, and Science</td>\n",
              "      <td>total_earnings_female</td>\n",
              "      <td>69427.306383</td>\n",
              "    </tr>\n",
              "    <tr>\n",
              "      <th>8</th>\n",
              "      <td>Healthcare Practitioners and Technical</td>\n",
              "      <td>total_earnings_female</td>\n",
              "      <td>68887.460938</td>\n",
              "    </tr>\n",
              "    <tr>\n",
              "      <th>10</th>\n",
              "      <td>Management, Business, and Financial</td>\n",
              "      <td>total_earnings_female</td>\n",
              "      <td>59070.357759</td>\n",
              "    </tr>\n",
              "    <tr>\n",
              "      <th>3</th>\n",
              "      <td>Education, Legal, Community Service, Arts, and...</td>\n",
              "      <td>total_earnings_male</td>\n",
              "      <td>54402.952381</td>\n",
              "    </tr>\n",
              "    <tr>\n",
              "      <th>11</th>\n",
              "      <td>Education, Legal, Community Service, Arts, and...</td>\n",
              "      <td>total_earnings_female</td>\n",
              "      <td>46257.660714</td>\n",
              "    </tr>\n",
              "    <tr>\n",
              "      <th>4</th>\n",
              "      <td>Sales and Office</td>\n",
              "      <td>total_earnings_male</td>\n",
              "      <td>44986.889286</td>\n",
              "    </tr>\n",
              "    <tr>\n",
              "      <th>5</th>\n",
              "      <td>Natural Resources, Construction, and Maintenance</td>\n",
              "      <td>total_earnings_male</td>\n",
              "      <td>44270.042683</td>\n",
              "    </tr>\n",
              "    <tr>\n",
              "      <th>6</th>\n",
              "      <td>Production, Transportation, and Material Moving</td>\n",
              "      <td>total_earnings_male</td>\n",
              "      <td>41299.601351</td>\n",
              "    </tr>\n",
              "    <tr>\n",
              "      <th>13</th>\n",
              "      <td>Natural Resources, Construction, and Maintenance</td>\n",
              "      <td>total_earnings_female</td>\n",
              "      <td>38549.106383</td>\n",
              "    </tr>\n",
              "    <tr>\n",
              "      <th>12</th>\n",
              "      <td>Sales and Office</td>\n",
              "      <td>total_earnings_female</td>\n",
              "      <td>37105.946429</td>\n",
              "    </tr>\n",
              "    <tr>\n",
              "      <th>7</th>\n",
              "      <td>Service</td>\n",
              "      <td>total_earnings_male</td>\n",
              "      <td>36805.496324</td>\n",
              "    </tr>\n",
              "    <tr>\n",
              "      <th>14</th>\n",
              "      <td>Production, Transportation, and Material Moving</td>\n",
              "      <td>total_earnings_female</td>\n",
              "      <td>32437.850816</td>\n",
              "    </tr>\n",
              "    <tr>\n",
              "      <th>15</th>\n",
              "      <td>Service</td>\n",
              "      <td>total_earnings_female</td>\n",
              "      <td>31987.962825</td>\n",
              "    </tr>\n",
              "  </tbody>\n",
              "</table>\n",
              "</div>"
            ],
            "text/plain": [
              "                                       major_category  ...         value\n",
              "0              Healthcare Practitioners and Technical  ...  81486.814516\n",
              "1                  Computer, Engineering, and Science  ...  80204.300847\n",
              "2                 Management, Business, and Financial  ...  73717.344828\n",
              "9                  Computer, Engineering, and Science  ...  69427.306383\n",
              "8              Healthcare Practitioners and Technical  ...  68887.460938\n",
              "10                Management, Business, and Financial  ...  59070.357759\n",
              "3   Education, Legal, Community Service, Arts, and...  ...  54402.952381\n",
              "11  Education, Legal, Community Service, Arts, and...  ...  46257.660714\n",
              "4                                    Sales and Office  ...  44986.889286\n",
              "5    Natural Resources, Construction, and Maintenance  ...  44270.042683\n",
              "6     Production, Transportation, and Material Moving  ...  41299.601351\n",
              "13   Natural Resources, Construction, and Maintenance  ...  38549.106383\n",
              "12                                   Sales and Office  ...  37105.946429\n",
              "7                                             Service  ...  36805.496324\n",
              "14    Production, Transportation, and Material Moving  ...  32437.850816\n",
              "15                                            Service  ...  31987.962825\n",
              "\n",
              "[16 rows x 3 columns]"
            ]
          },
          "metadata": {
            "tags": []
          },
          "execution_count": 7
        }
      ]
    },
    {
      "cell_type": "code",
      "metadata": {
        "id": "CTe5R0DeG74e",
        "colab_type": "code",
        "colab": {
          "base_uri": "https://localhost:8080/",
          "height": 490
        },
        "outputId": "ad7475e4-64f9-43f2-a4b8-f9762b1502c8"
      },
      "source": [
        "# Reorder values for plotting - https://plotnine.readthedocs.io/en/stable/generated/plotnine.aes.html#plotnine.aes\n",
        "\n",
        "# major_category_cat = pd.Categorical(breakdown_by_category_vis[major_category_cat], categories = jobs.sort_values('major_category').index.tolist())\n",
        "\n",
        "(\n",
        "    ggplot() + \n",
        "    geom_point(\n",
        "        aes(\n",
        "            x = 'value',\n",
        "            y = 'reorder(major_category, value)',\n",
        "            color = 'variable'\n",
        "        ),\n",
        "        size = 3,\n",
        "        data = breakdown_by_category_vis\n",
        "    ) +\n",
        "    geom_segment(\n",
        "        aes(\n",
        "            x = 'total_earnings_male',\n",
        "            y = 'major_category',\n",
        "            xend = 'total_earnings_female',\n",
        "            yend = 'major_category'\n",
        "        ),\n",
        "        alpha = 0.3,\n",
        "        data = breakdown_by_category.reset_index('major_category')\n",
        "    ) +\n",
        "    scale_color_brewer('qual', palette = 2) +\n",
        "    theme_light() +\n",
        "    ggtitle(\"Male vs. Female Earnings by Category\")\n",
        ")"
      ],
      "execution_count": 22,
      "outputs": [
        {
          "output_type": "display_data",
          "data": {
            "image/png": "[encoded data removed]",
            "text/plain": [
              "<Figure size 640x480 with 1 Axes>"
            ]
          },
          "metadata": {
            "tags": []
          }
        },
        {
          "output_type": "execute_result",
          "data": {
            "text/plain": [
              "<ggplot: (-9223363248198718709)>"
            ]
          },
          "metadata": {
            "tags": []
          },
          "execution_count": 22
        }
      ]
    }
  ]
}