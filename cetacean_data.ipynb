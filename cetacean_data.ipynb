{
  "nbformat": 4,
  "nbformat_minor": 0,
  "metadata": {
    "kernelspec": {
      "display_name": "Python 3",
      "language": "python",
      "name": "python3"
    },
    "language_info": {
      "codemirror_mode": {
        "name": "ipython",
        "version": 3
      },
      "file_extension": ".py",
      "mimetype": "text/x-python",
      "name": "python",
      "nbconvert_exporter": "python",
      "pygments_lexer": "ipython3",
      "version": "3.7.7"
    },
    "colab": {
      "name": "cetacean_data.ipynb",
      "provenance": [],
      "include_colab_link": true
    }
  },
  "cells": [
    {
      "cell_type": "markdown",
      "metadata": {
        "id": "view-in-github",
        "colab_type": "text"
      },
      "source": [
        "<a href=\"https://colab.research.google.com/github/briandk/2020-virtual-program-in-data-science/blob/master/cetacean_data.ipynb\" target=\"_parent\"><img src=\"https://colab.research.google.com/assets/colab-badge.svg\" alt=\"Open In Colab\"/></a>"
      ]
    },
    {
      "cell_type": "code",
      "metadata": {
        "id": "LUBZhEFauKd6",
        "colab_type": "code",
        "colab": {}
      },
      "source": [
        "import pandas as pd\n",
        "import numpy as np"
      ],
      "execution_count": 18,
      "outputs": []
    },
    {
      "cell_type": "code",
      "metadata": {
        "id": "K6BDjTljuOCH",
        "colab_type": "code",
        "colab": {
          "base_uri": "https://localhost:8080/",
          "height": 825
        },
        "outputId": "26415536-24bf-4362-c233-c70d8b80d935"
      },
      "source": [
        "cetaceans = pd.read_csv(\"https://github.com/briandk/2020-virtual-program-in-data-science/raw/master/data/cetacean_data.csv\")\n",
        "\n",
        "def clean_data(df: pd.DataFrame):\n",
        "  df['entryDate_timestamp'] = pd.to_datetime(df['entryDate'], infer_datetime_format = True)\n",
        "  return df\n",
        "\n",
        "cetaceans = clean_data(cetaceans)\n",
        "cetaceans"
      ],
      "execution_count": 44,
      "outputs": [
        {
          "output_type": "execute_result",
          "data": {
            "text/html": [
              "<div>\n",
              "<style scoped>\n",
              "    .dataframe tbody tr th:only-of-type {\n",
              "        vertical-align: middle;\n",
              "    }\n",
              "\n",
              "    .dataframe tbody tr th {\n",
              "        vertical-align: top;\n",
              "    }\n",
              "\n",
              "    .dataframe thead th {\n",
              "        text-align: right;\n",
              "    }\n",
              "</style>\n",
              "<table border=\"1\" class=\"dataframe\">\n",
              "  <thead>\n",
              "    <tr style=\"text-align: right;\">\n",
              "      <th></th>\n",
              "      <th>row_number</th>\n",
              "      <th>species</th>\n",
              "      <th>id</th>\n",
              "      <th>name</th>\n",
              "      <th>sex</th>\n",
              "      <th>accuracy</th>\n",
              "      <th>birthYear</th>\n",
              "      <th>acquisition</th>\n",
              "      <th>originDate</th>\n",
              "      <th>originLocation</th>\n",
              "      <th>mother</th>\n",
              "      <th>father</th>\n",
              "      <th>transfers</th>\n",
              "      <th>currently</th>\n",
              "      <th>region</th>\n",
              "      <th>status</th>\n",
              "      <th>statusDate</th>\n",
              "      <th>COD</th>\n",
              "      <th>notes</th>\n",
              "      <th>transferDate</th>\n",
              "      <th>transfer</th>\n",
              "      <th>entryDate</th>\n",
              "      <th>entryDate_timestamp</th>\n",
              "    </tr>\n",
              "  </thead>\n",
              "  <tbody>\n",
              "    <tr>\n",
              "      <th>0</th>\n",
              "      <td>1</td>\n",
              "      <td>Bottlenose</td>\n",
              "      <td>NOA0004614, AZA 428, MLF-428</td>\n",
              "      <td>Dazzle</td>\n",
              "      <td>F</td>\n",
              "      <td>a</td>\n",
              "      <td>1989</td>\n",
              "      <td>Born</td>\n",
              "      <td>1989-04-07</td>\n",
              "      <td>Marineland Florida</td>\n",
              "      <td>Betty III</td>\n",
              "      <td>Davy II</td>\n",
              "      <td>NaN</td>\n",
              "      <td>Marineland Florida</td>\n",
              "      <td>US</td>\n",
              "      <td>Alive</td>\n",
              "      <td>NaN</td>\n",
              "      <td>NaN</td>\n",
              "      <td>NaN</td>\n",
              "      <td>NaN</td>\n",
              "      <td>US</td>\n",
              "      <td>1989-04-07</td>\n",
              "      <td>1989-04-07</td>\n",
              "    </tr>\n",
              "    <tr>\n",
              "      <th>1</th>\n",
              "      <td>2</td>\n",
              "      <td>Bottlenose</td>\n",
              "      <td>NOA0004386, AZA 138, IDR-73-1</td>\n",
              "      <td>Tursi</td>\n",
              "      <td>F</td>\n",
              "      <td>a</td>\n",
              "      <td>1973</td>\n",
              "      <td>Born</td>\n",
              "      <td>1973-11-26</td>\n",
              "      <td>Dolphin Research Center</td>\n",
              "      <td>Little Bit</td>\n",
              "      <td>Mr. Gipper</td>\n",
              "      <td>NaN</td>\n",
              "      <td>Dolphin Research Center</td>\n",
              "      <td>US</td>\n",
              "      <td>Alive</td>\n",
              "      <td>NaN</td>\n",
              "      <td>NaN</td>\n",
              "      <td>NaN</td>\n",
              "      <td>NaN</td>\n",
              "      <td>US</td>\n",
              "      <td>1973-11-26</td>\n",
              "      <td>1973-11-26</td>\n",
              "    </tr>\n",
              "    <tr>\n",
              "      <th>2</th>\n",
              "      <td>3</td>\n",
              "      <td>Bottlenose</td>\n",
              "      <td>NOA0002137, SWC-TTG-7816</td>\n",
              "      <td>Starbuck</td>\n",
              "      <td>M</td>\n",
              "      <td>a</td>\n",
              "      <td>1978</td>\n",
              "      <td>Born</td>\n",
              "      <td>1978-05-13</td>\n",
              "      <td>SeaWorld San Diego</td>\n",
              "      <td>Cindy (T.t. gilli)</td>\n",
              "      <td>Sambo</td>\n",
              "      <td>SeaWorld San Diego to SeaWorld Aurora (??-???-...</td>\n",
              "      <td>SeaWorld Orlando</td>\n",
              "      <td>US</td>\n",
              "      <td>Alive</td>\n",
              "      <td>NaN</td>\n",
              "      <td>NaN</td>\n",
              "      <td>NaN</td>\n",
              "      <td>NaN</td>\n",
              "      <td>US</td>\n",
              "      <td>1978-05-13</td>\n",
              "      <td>1978-05-13</td>\n",
              "    </tr>\n",
              "    <tr>\n",
              "      <th>3</th>\n",
              "      <td>4</td>\n",
              "      <td>Bottlenose</td>\n",
              "      <td>NOA0002690, SWF-TT-7903</td>\n",
              "      <td>Sandy</td>\n",
              "      <td>F</td>\n",
              "      <td>a</td>\n",
              "      <td>1979</td>\n",
              "      <td>Born</td>\n",
              "      <td>1979-02-03</td>\n",
              "      <td>SeaWorld Orlando</td>\n",
              "      <td>Gigi</td>\n",
              "      <td>NaN</td>\n",
              "      <td>SeaWorld Orlando to SeaWorld San Diego (&lt; Aug ...</td>\n",
              "      <td>SeaWorld San Diego</td>\n",
              "      <td>US</td>\n",
              "      <td>Alive</td>\n",
              "      <td>NaN</td>\n",
              "      <td>NaN</td>\n",
              "      <td>NaN</td>\n",
              "      <td>NaN</td>\n",
              "      <td>US</td>\n",
              "      <td>1979-02-03</td>\n",
              "      <td>1979-02-03</td>\n",
              "    </tr>\n",
              "    <tr>\n",
              "      <th>4</th>\n",
              "      <td>5</td>\n",
              "      <td>Bottlenose</td>\n",
              "      <td>NOA0004418, AZA 242, SWF-TT-7904, MH-82-36-TT ...</td>\n",
              "      <td>Sandy</td>\n",
              "      <td>M</td>\n",
              "      <td>a</td>\n",
              "      <td>1979</td>\n",
              "      <td>Born</td>\n",
              "      <td>1979-08-15</td>\n",
              "      <td>SeaWorld Orlando</td>\n",
              "      <td>Wendy</td>\n",
              "      <td>NaN</td>\n",
              "      <td>SeaWorld Orlando to New England Aquarium (22-F...</td>\n",
              "      <td>Dolphin Research Center</td>\n",
              "      <td>US</td>\n",
              "      <td>Alive</td>\n",
              "      <td>NaN</td>\n",
              "      <td>NaN</td>\n",
              "      <td>NaN</td>\n",
              "      <td>NaN</td>\n",
              "      <td>US</td>\n",
              "      <td>1979-08-15</td>\n",
              "      <td>1979-08-15</td>\n",
              "    </tr>\n",
              "    <tr>\n",
              "      <th>...</th>\n",
              "      <td>...</td>\n",
              "      <td>...</td>\n",
              "      <td>...</td>\n",
              "      <td>...</td>\n",
              "      <td>...</td>\n",
              "      <td>...</td>\n",
              "      <td>...</td>\n",
              "      <td>...</td>\n",
              "      <td>...</td>\n",
              "      <td>...</td>\n",
              "      <td>...</td>\n",
              "      <td>...</td>\n",
              "      <td>...</td>\n",
              "      <td>...</td>\n",
              "      <td>...</td>\n",
              "      <td>...</td>\n",
              "      <td>...</td>\n",
              "      <td>...</td>\n",
              "      <td>...</td>\n",
              "      <td>...</td>\n",
              "      <td>...</td>\n",
              "      <td>...</td>\n",
              "      <td>...</td>\n",
              "    </tr>\n",
              "    <tr>\n",
              "      <th>2189</th>\n",
              "      <td>2190</td>\n",
              "      <td>Bottlenose</td>\n",
              "      <td>NOA0004493</td>\n",
              "      <td>NaN</td>\n",
              "      <td>F</td>\n",
              "      <td>e</td>\n",
              "      <td>1974</td>\n",
              "      <td>Capture</td>\n",
              "      <td>1978-11-04</td>\n",
              "      <td>Unknown</td>\n",
              "      <td>NaN</td>\n",
              "      <td>NaN</td>\n",
              "      <td>NaN</td>\n",
              "      <td>Unknown</td>\n",
              "      <td>US</td>\n",
              "      <td>Died</td>\n",
              "      <td>1978-12-30</td>\n",
              "      <td>hepatic necrosis; pregnant/capture shock</td>\n",
              "      <td>NaN</td>\n",
              "      <td>NaN</td>\n",
              "      <td>US</td>\n",
              "      <td>1978-11-04</td>\n",
              "      <td>1978-11-04</td>\n",
              "    </tr>\n",
              "    <tr>\n",
              "      <th>2190</th>\n",
              "      <td>2191</td>\n",
              "      <td>Pacific White-Sided</td>\n",
              "      <td>NOA0002531</td>\n",
              "      <td>NaN</td>\n",
              "      <td>F</td>\n",
              "      <td>u</td>\n",
              "      <td>NaN</td>\n",
              "      <td>Capture</td>\n",
              "      <td>1980-01-15</td>\n",
              "      <td>Unknown</td>\n",
              "      <td>NaN</td>\n",
              "      <td>NaN</td>\n",
              "      <td>NaN</td>\n",
              "      <td>Unknown</td>\n",
              "      <td>US</td>\n",
              "      <td>Died</td>\n",
              "      <td>1992-08-09</td>\n",
              "      <td>Mycotic meningoencephalitis</td>\n",
              "      <td>NaN</td>\n",
              "      <td>NaN</td>\n",
              "      <td>US</td>\n",
              "      <td>1980-01-15</td>\n",
              "      <td>1980-01-15</td>\n",
              "    </tr>\n",
              "    <tr>\n",
              "      <th>2191</th>\n",
              "      <td>2192</td>\n",
              "      <td>Bottlenose</td>\n",
              "      <td>NOA0002569</td>\n",
              "      <td>NaN</td>\n",
              "      <td>U</td>\n",
              "      <td>u</td>\n",
              "      <td>NaN</td>\n",
              "      <td>Capture</td>\n",
              "      <td>1972-06-01</td>\n",
              "      <td>Unknown</td>\n",
              "      <td>NaN</td>\n",
              "      <td>NaN</td>\n",
              "      <td>NaN</td>\n",
              "      <td>Unknown</td>\n",
              "      <td>US</td>\n",
              "      <td>Died</td>\n",
              "      <td>1976-12-15</td>\n",
              "      <td>Pancreatitis</td>\n",
              "      <td>NaN</td>\n",
              "      <td>NaN</td>\n",
              "      <td>US</td>\n",
              "      <td>1972-06-01</td>\n",
              "      <td>1972-06-01</td>\n",
              "    </tr>\n",
              "    <tr>\n",
              "      <th>2192</th>\n",
              "      <td>2193</td>\n",
              "      <td>Bottlenose</td>\n",
              "      <td>NOA0002680</td>\n",
              "      <td>NaN</td>\n",
              "      <td>F</td>\n",
              "      <td>u</td>\n",
              "      <td>NaN</td>\n",
              "      <td>Capture</td>\n",
              "      <td>1977-05-05</td>\n",
              "      <td>Unknown</td>\n",
              "      <td>NaN</td>\n",
              "      <td>NaN</td>\n",
              "      <td>NaN</td>\n",
              "      <td>Unknown</td>\n",
              "      <td>US</td>\n",
              "      <td>Died</td>\n",
              "      <td>1983-02-07</td>\n",
              "      <td>gastritis; enteritis; old age</td>\n",
              "      <td>NaN</td>\n",
              "      <td>NaN</td>\n",
              "      <td>US</td>\n",
              "      <td>1977-05-05</td>\n",
              "      <td>1977-05-05</td>\n",
              "    </tr>\n",
              "    <tr>\n",
              "      <th>2193</th>\n",
              "      <td>2194</td>\n",
              "      <td>Bottlenose</td>\n",
              "      <td>NOA0002747</td>\n",
              "      <td>NaN</td>\n",
              "      <td>F</td>\n",
              "      <td>u</td>\n",
              "      <td>NaN</td>\n",
              "      <td>Capture</td>\n",
              "      <td>1982-05-28</td>\n",
              "      <td>Unknown</td>\n",
              "      <td>NaN</td>\n",
              "      <td>NaN</td>\n",
              "      <td>NaN</td>\n",
              "      <td>Unknown</td>\n",
              "      <td>US</td>\n",
              "      <td>Released</td>\n",
              "      <td>1982-06-07</td>\n",
              "      <td>NaN</td>\n",
              "      <td>NaN</td>\n",
              "      <td>NaN</td>\n",
              "      <td>US</td>\n",
              "      <td>1982-05-28</td>\n",
              "      <td>1982-05-28</td>\n",
              "    </tr>\n",
              "  </tbody>\n",
              "</table>\n",
              "<p>2194 rows × 23 columns</p>\n",
              "</div>"
            ],
            "text/plain": [
              "      row_number              species  ...   entryDate entryDate_timestamp\n",
              "0              1           Bottlenose  ...  1989-04-07          1989-04-07\n",
              "1              2           Bottlenose  ...  1973-11-26          1973-11-26\n",
              "2              3           Bottlenose  ...  1978-05-13          1978-05-13\n",
              "3              4           Bottlenose  ...  1979-02-03          1979-02-03\n",
              "4              5           Bottlenose  ...  1979-08-15          1979-08-15\n",
              "...          ...                  ...  ...         ...                 ...\n",
              "2189        2190           Bottlenose  ...  1978-11-04          1978-11-04\n",
              "2190        2191  Pacific White-Sided  ...  1980-01-15          1980-01-15\n",
              "2191        2192           Bottlenose  ...  1972-06-01          1972-06-01\n",
              "2192        2193           Bottlenose  ...  1977-05-05          1977-05-05\n",
              "2193        2194           Bottlenose  ...  1982-05-28          1982-05-28\n",
              "\n",
              "[2194 rows x 23 columns]"
            ]
          },
          "metadata": {
            "tags": []
          },
          "execution_count": 44
        }
      ]
    },
    {
      "cell_type": "markdown",
      "metadata": {
        "id": "Cd_ED2SiuS16",
        "colab_type": "text"
      },
      "source": [
        "Let's see how the species break down"
      ]
    },
    {
      "cell_type": "code",
      "metadata": {
        "id": "FyuhB7XnwTMU",
        "colab_type": "code",
        "colab": {
          "base_uri": "https://localhost:8080/",
          "height": 674
        },
        "outputId": "25b2924e-3cee-4f68-d64a-076b6225760b"
      },
      "source": [
        "cetaceans['species'].value_counts()"
      ],
      "execution_count": 7,
      "outputs": [
        {
          "output_type": "execute_result",
          "data": {
            "text/plain": [
              "Bottlenose                  1668\n",
              "Killer Whale; Orca            79\n",
              "Beluga                        68\n",
              "White-sided, Pacific          56\n",
              "Pacific White-Sided           41\n",
              "Commerson's                   37\n",
              "Spinner                       36\n",
              "Beluga Whale                  28\n",
              "Short-Finned Pilot Whale      25\n",
              "Pilot, Short-fin              22\n",
              "Pseudorca                     18\n",
              "Common                        17\n",
              "Rough-Toothed                 15\n",
              "False Killer Whale            11\n",
              "Pantropical Spotted            8\n",
              "Long-Finned Pilot Whale        6\n",
              "Atlantic White- Sided          6\n",
              "Risso's                        6\n",
              "White-Beaked                   6\n",
              "Harbor Porpoise                5\n",
              "Unspecified Or Porpoise        4\n",
              "Melon-Headed Whale             4\n",
              "Spotted, Atlantic              4\n",
              "Northern Right Whale           3\n",
              "Unspecified Pilot Whales       3\n",
              "Pygmy Killer Whale             3\n",
              "Common; Saddleback             2\n",
              "Backcross                      2\n",
              "Pilot, Short-finned            2\n",
              "Amazon River; Boto             2\n",
              "Tucuxi                         1\n",
              "Atlantic Spotted               1\n",
              "River, Amazon                  1\n",
              "Hybrid                         1\n",
              "Common, Long-beak              1\n",
              "Rough-toothed                  1\n",
              "Spotted, Pantropical           1\n",
              "Name: species, dtype: int64"
            ]
          },
          "metadata": {
            "tags": []
          },
          "execution_count": 7
        }
      ]
    },
    {
      "cell_type": "markdown",
      "metadata": {
        "id": "o5y86v8owwEM",
        "colab_type": "text"
      },
      "source": [
        "Looks like there are *way* more bottlenose dolphins than any other kind of cetacean."
      ]
    },
    {
      "cell_type": "markdown",
      "metadata": {
        "id": "QildsN5BxBbS",
        "colab_type": "text"
      },
      "source": [
        " How do the observed cetaceans break down by sex?"
      ]
    },
    {
      "cell_type": "code",
      "metadata": {
        "id": "p1G0ourQxItz",
        "colab_type": "code",
        "colab": {
          "base_uri": "https://localhost:8080/",
          "height": 86
        },
        "outputId": "db686aba-c22d-417a-d94c-2efacecc5a70"
      },
      "source": [
        "cetaceans['sex'].value_counts()"
      ],
      "execution_count": 8,
      "outputs": [
        {
          "output_type": "execute_result",
          "data": {
            "text/plain": [
              "F    1174\n",
              "M     915\n",
              "U     105\n",
              "Name: sex, dtype: int64"
            ]
          },
          "metadata": {
            "tags": []
          },
          "execution_count": 8
        }
      ]
    },
    {
      "cell_type": "markdown",
      "metadata": {
        "id": "o-AtN9-pxSBg",
        "colab_type": "text"
      },
      "source": [
        "Interesting. There are 250 or so more females than there are males.\n",
        "\n",
        "What if we looked at their age distribution?"
      ]
    },
    {
      "cell_type": "code",
      "metadata": {
        "id": "YDdKVTYKxg4Z",
        "colab_type": "code",
        "colab": {
          "base_uri": "https://localhost:8080/",
          "height": 225
        },
        "outputId": "41c34a87-294a-4446-a56e-2b55a5163f59"
      },
      "source": [
        "cetaceans['birthYear'].value_counts()"
      ],
      "execution_count": 16,
      "outputs": [
        {
          "output_type": "execute_result",
          "data": {
            "text/plain": [
              "1976    42\n",
              "1985    40\n",
              "1981    39\n",
              "1970    39\n",
              "1980    39\n",
              "        ..\n",
              "1942     1\n",
              "2017     1\n",
              "1940     1\n",
              "1946     1\n",
              "1955     1\n",
              "Name: birthYear, Length: 77, dtype: int64"
            ]
          },
          "metadata": {
            "tags": []
          },
          "execution_count": 16
        }
      ]
    },
    {
      "cell_type": "markdown",
      "metadata": {
        "id": "9IQcP81ayDMG",
        "colab_type": "text"
      },
      "source": [
        "What's the status breakdown of alive/deceased/released?"
      ]
    },
    {
      "cell_type": "code",
      "metadata": {
        "id": "g5zxQkBqyuqU",
        "colab_type": "code",
        "colab": {
          "base_uri": "https://localhost:8080/",
          "height": 190
        },
        "outputId": "fa808cf6-e9ee-4b05-ff50-d5af11ce7ee3"
      },
      "source": [
        "cetaceans['status'].value_counts()"
      ],
      "execution_count": 15,
      "outputs": [
        {
          "output_type": "execute_result",
          "data": {
            "text/plain": [
              "Died                    1558\n",
              "Alive                    467\n",
              "Released                 104\n",
              "Unknown                   42\n",
              "Stillbirth                15\n",
              "Miscarriage                5\n",
              "Released?                  1\n",
              "Escaped                    1\n",
              "Escaped (Found Dead)       1\n",
              "Name: status, dtype: int64"
            ]
          },
          "metadata": {
            "tags": []
          },
          "execution_count": 15
        }
      ]
    },
    {
      "cell_type": "markdown",
      "metadata": {
        "id": "VE8TP3JVyxjA",
        "colab_type": "text"
      },
      "source": [
        "How many of them are currently in Sea World?"
      ]
    },
    {
      "cell_type": "code",
      "metadata": {
        "id": "xprCZ3rmy_L3",
        "colab_type": "code",
        "colab": {
          "base_uri": "https://localhost:8080/",
          "height": 225
        },
        "outputId": "3125cd87-a821-45e4-8490-83d9fa6c7976"
      },
      "source": [
        "cetaceans['currently'].value_counts()"
      ],
      "execution_count": 24,
      "outputs": [
        {
          "output_type": "execute_result",
          "data": {
            "text/plain": [
              "Unknown                                265\n",
              "U.S. Navy                              206\n",
              "SeaWorld San Diego                     203\n",
              "SeaWorld Orlando                       140\n",
              "Sea Life Park Hawaii                   124\n",
              "                                      ... \n",
              "Navy, US (SPAWAR)                        1\n",
              "Institute for Marine Mammal Studies      1\n",
              "Gulfarium                                1\n",
              "Niagra Aquarium Foundation               1\n",
              "Massachusetts Audubon Society            1\n",
              "Name: currently, Length: 97, dtype: int64"
            ]
          },
          "metadata": {
            "tags": []
          },
          "execution_count": 24
        }
      ]
    },
    {
      "cell_type": "markdown",
      "metadata": {
        "id": "inmoaCp80JC-",
        "colab_type": "text"
      },
      "source": [
        "☝️ The above tells us that some are at Sea World, but we want to count all the cetaceans at sea world"
      ]
    },
    {
      "cell_type": "code",
      "metadata": {
        "id": "i-obt5JF0YTw",
        "colab_type": "code",
        "colab": {}
      },
      "source": [
        "def is_in_seaworld(location: str):\n",
        "  match = location.lower().find('seaworld')\n",
        "  if (match >= 0):\n",
        "    return True\n",
        "  else:\n",
        "    return False\n",
        "\n",
        "cetaceans['is_currently_in_seaworld'] = cetaceans['currently'].apply(is_in_seaworld)"
      ],
      "execution_count": 37,
      "outputs": []
    },
    {
      "cell_type": "code",
      "metadata": {
        "id": "_c9cmxJC0gic",
        "colab_type": "code",
        "colab": {
          "base_uri": "https://localhost:8080/",
          "height": 69
        },
        "outputId": "3a772c5f-d1e4-4c7f-c57d-2722795870f8"
      },
      "source": [
        "cetaceans['is_currently_in_seaworld'].value_counts()"
      ],
      "execution_count": 39,
      "outputs": [
        {
          "output_type": "execute_result",
          "data": {
            "text/plain": [
              "False    1750\n",
              "True      444\n",
              "Name: is_currently_in_seaworld, dtype: int64"
            ]
          },
          "metadata": {
            "tags": []
          },
          "execution_count": 39
        }
      ]
    },
    {
      "cell_type": "markdown",
      "metadata": {
        "id": "dG6E4zW51WKm",
        "colab_type": "text"
      },
      "source": [
        "☝️ Wow. 25% of the cetaceans in the dataset were, at the time it was compiled, owned by SeaWorld."
      ]
    },
    {
      "cell_type": "markdown",
      "metadata": {
        "id": "XCPjmMtf4aIX",
        "colab_type": "text"
      },
      "source": [
        "What happens if we take a look at acquisitions over time?"
      ]
    },
    {
      "cell_type": "code",
      "metadata": {
        "id": "W21_DqWW2Wic",
        "colab_type": "code",
        "colab": {
          "base_uri": "https://localhost:8080/",
          "height": 700
        },
        "outputId": "9e8cc503-e3c7-4f8b-a41c-59d24b5a4a2d"
      },
      "source": [
        "acquisitions_per_year = cetaceans.groupby(cetaceans['entryDate_timestamp'].dt.year)\n",
        "acquisitions_per_year.sum().plot()\n",
        "acquisitions_per_year.sum()\n"
      ],
      "execution_count": 66,
      "outputs": [
        {
          "output_type": "execute_result",
          "data": {
            "text/html": [
              "<div>\n",
              "<style scoped>\n",
              "    .dataframe tbody tr th:only-of-type {\n",
              "        vertical-align: middle;\n",
              "    }\n",
              "\n",
              "    .dataframe tbody tr th {\n",
              "        vertical-align: top;\n",
              "    }\n",
              "\n",
              "    .dataframe thead th {\n",
              "        text-align: right;\n",
              "    }\n",
              "</style>\n",
              "<table border=\"1\" class=\"dataframe\">\n",
              "  <thead>\n",
              "    <tr style=\"text-align: right;\">\n",
              "      <th></th>\n",
              "      <th>row_number</th>\n",
              "    </tr>\n",
              "    <tr>\n",
              "      <th>entryDate_timestamp</th>\n",
              "      <th></th>\n",
              "    </tr>\n",
              "  </thead>\n",
              "  <tbody>\n",
              "    <tr>\n",
              "      <th>1946.0</th>\n",
              "      <td>1357</td>\n",
              "    </tr>\n",
              "    <tr>\n",
              "      <th>1949.0</th>\n",
              "      <td>657</td>\n",
              "    </tr>\n",
              "    <tr>\n",
              "      <th>1952.0</th>\n",
              "      <td>888</td>\n",
              "    </tr>\n",
              "    <tr>\n",
              "      <th>1953.0</th>\n",
              "      <td>658</td>\n",
              "    </tr>\n",
              "    <tr>\n",
              "      <th>1955.0</th>\n",
              "      <td>1417</td>\n",
              "    </tr>\n",
              "    <tr>\n",
              "      <th>...</th>\n",
              "      <td>...</td>\n",
              "    </tr>\n",
              "    <tr>\n",
              "      <th>2013.0</th>\n",
              "      <td>7684</td>\n",
              "    </tr>\n",
              "    <tr>\n",
              "      <th>2014.0</th>\n",
              "      <td>11105</td>\n",
              "    </tr>\n",
              "    <tr>\n",
              "      <th>2015.0</th>\n",
              "      <td>5178</td>\n",
              "    </tr>\n",
              "    <tr>\n",
              "      <th>2016.0</th>\n",
              "      <td>5981</td>\n",
              "    </tr>\n",
              "    <tr>\n",
              "      <th>2017.0</th>\n",
              "      <td>1929</td>\n",
              "    </tr>\n",
              "  </tbody>\n",
              "</table>\n",
              "<p>66 rows × 1 columns</p>\n",
              "</div>"
            ],
            "text/plain": [
              "                     row_number\n",
              "entryDate_timestamp            \n",
              "1946.0                     1357\n",
              "1949.0                      657\n",
              "1952.0                      888\n",
              "1953.0                      658\n",
              "1955.0                     1417\n",
              "...                         ...\n",
              "2013.0                     7684\n",
              "2014.0                    11105\n",
              "2015.0                     5178\n",
              "2016.0                     5981\n",
              "2017.0                     1929\n",
              "\n",
              "[66 rows x 1 columns]"
            ]
          },
          "metadata": {
            "tags": []
          },
          "execution_count": 66
        },
        {
          "output_type": "display_data",
          "data": {
            "image/png": "[encoded data removed]",
            "text/plain": [
              "<Figure size 432x288 with 1 Axes>"
            ]
          },
          "metadata": {
            "tags": [],
            "needs_background": "light"
          }
        }
      ]
    },
    {
      "cell_type": "markdown",
      "metadata": {
        "id": "E8DE7F4b2sq3",
        "colab_type": "text"
      },
      "source": [
        "And how do those acquisitions break down?"
      ]
    },
    {
      "cell_type": "code",
      "metadata": {
        "id": "U6ClcDWN4pcV",
        "colab_type": "code",
        "colab": {
          "base_uri": "https://localhost:8080/",
          "height": 138
        },
        "outputId": "e2f6f6d4-eb60-4a2a-cb73-501881c152d2"
      },
      "source": [
        "cetaceans['acquisition'].value_counts()"
      ],
      "execution_count": 55,
      "outputs": [
        {
          "output_type": "execute_result",
          "data": {
            "text/plain": [
              "Capture        1214\n",
              "Born            776\n",
              "Unknown          95\n",
              "Rescue           89\n",
              "Stillbirth       15\n",
              "Miscarriage       5\n",
              "Name: acquisition, dtype: int64"
            ]
          },
          "metadata": {
            "tags": []
          },
          "execution_count": 55
        }
      ]
    },
    {
      "cell_type": "markdown",
      "metadata": {
        "id": "JdFsB0t641Ny",
        "colab_type": "text"
      },
      "source": [
        "How do causes of death break down?"
      ]
    },
    {
      "cell_type": "code",
      "metadata": {
        "id": "5teRfizL4tvG",
        "colab_type": "code",
        "colab": {
          "base_uri": "https://localhost:8080/",
          "height": 225
        },
        "outputId": "0f466b7d-e344-4d9b-8fda-6e1e54b9bac8"
      },
      "source": [
        "cetaceans['COD'].value_counts()"
      ],
      "execution_count": 67,
      "outputs": [
        {
          "output_type": "execute_result",
          "data": {
            "text/plain": [
              "-                                                                   113\n",
              "Pneumonia                                                            41\n",
              "PNEUMONIA                                                            39\n",
              "Euthanasia                                                           18\n",
              "Euthanasia: Life threatening condition involving\\rpain/suffering     18\n",
              "                                                                   ... \n",
              "CARDIOVASCULAR COLLAPSE; PNEUMONIA                                    1\n",
              "HEPATIC CIRRHOSIS                                                     1\n",
              "HYPERPLASIA, DIFFUSE, MARKED, PROSTATE                                1\n",
              "Neonatal death; no significant findings on necropsy                   1\n",
              "Infectious myositis, following a jaw fracture                         1\n",
              "Name: COD, Length: 1002, dtype: int64"
            ]
          },
          "metadata": {
            "tags": []
          },
          "execution_count": 67
        }
      ]
    },
    {
      "cell_type": "markdown",
      "metadata": {
        "id": "_UwBpKcD67EB",
        "colab_type": "text"
      },
      "source": [
        "☝️ Wow. So in 113 cases, the cause of death was pneumonia. How does that break down by sex?"
      ]
    },
    {
      "cell_type": "code",
      "metadata": {
        "id": "oujZuvKw7drV",
        "colab_type": "code",
        "colab": {
          "base_uri": "https://localhost:8080/",
          "height": 751
        },
        "outputId": "44fc12d2-38b8-4d9e-d48f-491ed69110c3"
      },
      "source": [
        "cetaceans.groupby(['sex', 'COD']).count()"
      ],
      "execution_count": 74,
      "outputs": [
        {
          "output_type": "execute_result",
          "data": {
            "text/html": [
              "<div>\n",
              "<style scoped>\n",
              "    .dataframe tbody tr th:only-of-type {\n",
              "        vertical-align: middle;\n",
              "    }\n",
              "\n",
              "    .dataframe tbody tr th {\n",
              "        vertical-align: top;\n",
              "    }\n",
              "\n",
              "    .dataframe thead th {\n",
              "        text-align: right;\n",
              "    }\n",
              "</style>\n",
              "<table border=\"1\" class=\"dataframe\">\n",
              "  <thead>\n",
              "    <tr style=\"text-align: right;\">\n",
              "      <th></th>\n",
              "      <th></th>\n",
              "      <th>row_number</th>\n",
              "      <th>species</th>\n",
              "      <th>id</th>\n",
              "      <th>name</th>\n",
              "      <th>accuracy</th>\n",
              "      <th>birthYear</th>\n",
              "      <th>acquisition</th>\n",
              "      <th>originDate</th>\n",
              "      <th>originLocation</th>\n",
              "      <th>mother</th>\n",
              "      <th>father</th>\n",
              "      <th>transfers</th>\n",
              "      <th>currently</th>\n",
              "      <th>region</th>\n",
              "      <th>status</th>\n",
              "      <th>statusDate</th>\n",
              "      <th>notes</th>\n",
              "      <th>transferDate</th>\n",
              "      <th>transfer</th>\n",
              "      <th>entryDate</th>\n",
              "      <th>entryDate_timestamp</th>\n",
              "    </tr>\n",
              "    <tr>\n",
              "      <th>sex</th>\n",
              "      <th>COD</th>\n",
              "      <th></th>\n",
              "      <th></th>\n",
              "      <th></th>\n",
              "      <th></th>\n",
              "      <th></th>\n",
              "      <th></th>\n",
              "      <th></th>\n",
              "      <th></th>\n",
              "      <th></th>\n",
              "      <th></th>\n",
              "      <th></th>\n",
              "      <th></th>\n",
              "      <th></th>\n",
              "      <th></th>\n",
              "      <th></th>\n",
              "      <th></th>\n",
              "      <th></th>\n",
              "      <th></th>\n",
              "      <th></th>\n",
              "      <th></th>\n",
              "      <th></th>\n",
              "    </tr>\n",
              "  </thead>\n",
              "  <tbody>\n",
              "    <tr>\n",
              "      <th rowspan=\"5\" valign=\"top\">F</th>\n",
              "      <th>(NO RECORD)</th>\n",
              "      <td>2</td>\n",
              "      <td>2</td>\n",
              "      <td>2</td>\n",
              "      <td>2</td>\n",
              "      <td>2</td>\n",
              "      <td>0</td>\n",
              "      <td>2</td>\n",
              "      <td>0</td>\n",
              "      <td>2</td>\n",
              "      <td>0</td>\n",
              "      <td>0</td>\n",
              "      <td>0</td>\n",
              "      <td>2</td>\n",
              "      <td>2</td>\n",
              "      <td>2</td>\n",
              "      <td>2</td>\n",
              "      <td>0</td>\n",
              "      <td>0</td>\n",
              "      <td>2</td>\n",
              "      <td>0</td>\n",
              "      <td>0</td>\n",
              "    </tr>\n",
              "    <tr>\n",
              "      <th>-</th>\n",
              "      <td>67</td>\n",
              "      <td>67</td>\n",
              "      <td>67</td>\n",
              "      <td>51</td>\n",
              "      <td>67</td>\n",
              "      <td>53</td>\n",
              "      <td>67</td>\n",
              "      <td>67</td>\n",
              "      <td>67</td>\n",
              "      <td>35</td>\n",
              "      <td>29</td>\n",
              "      <td>35</td>\n",
              "      <td>67</td>\n",
              "      <td>67</td>\n",
              "      <td>67</td>\n",
              "      <td>58</td>\n",
              "      <td>18</td>\n",
              "      <td>0</td>\n",
              "      <td>67</td>\n",
              "      <td>67</td>\n",
              "      <td>67</td>\n",
              "    </tr>\n",
              "    <tr>\n",
              "      <th>ABDOMINAL ABSCESS</th>\n",
              "      <td>1</td>\n",
              "      <td>1</td>\n",
              "      <td>1</td>\n",
              "      <td>0</td>\n",
              "      <td>1</td>\n",
              "      <td>0</td>\n",
              "      <td>1</td>\n",
              "      <td>1</td>\n",
              "      <td>1</td>\n",
              "      <td>0</td>\n",
              "      <td>0</td>\n",
              "      <td>0</td>\n",
              "      <td>1</td>\n",
              "      <td>1</td>\n",
              "      <td>1</td>\n",
              "      <td>1</td>\n",
              "      <td>0</td>\n",
              "      <td>0</td>\n",
              "      <td>1</td>\n",
              "      <td>1</td>\n",
              "      <td>1</td>\n",
              "    </tr>\n",
              "    <tr>\n",
              "      <th>ABSCESS IN MUSCLE TISSUE</th>\n",
              "      <td>1</td>\n",
              "      <td>1</td>\n",
              "      <td>1</td>\n",
              "      <td>0</td>\n",
              "      <td>1</td>\n",
              "      <td>0</td>\n",
              "      <td>1</td>\n",
              "      <td>1</td>\n",
              "      <td>1</td>\n",
              "      <td>0</td>\n",
              "      <td>0</td>\n",
              "      <td>0</td>\n",
              "      <td>1</td>\n",
              "      <td>1</td>\n",
              "      <td>1</td>\n",
              "      <td>1</td>\n",
              "      <td>0</td>\n",
              "      <td>0</td>\n",
              "      <td>1</td>\n",
              "      <td>1</td>\n",
              "      <td>1</td>\n",
              "    </tr>\n",
              "    <tr>\n",
              "      <th>ABSESS ON HEART</th>\n",
              "      <td>1</td>\n",
              "      <td>1</td>\n",
              "      <td>1</td>\n",
              "      <td>1</td>\n",
              "      <td>1</td>\n",
              "      <td>0</td>\n",
              "      <td>1</td>\n",
              "      <td>1</td>\n",
              "      <td>1</td>\n",
              "      <td>0</td>\n",
              "      <td>0</td>\n",
              "      <td>0</td>\n",
              "      <td>1</td>\n",
              "      <td>1</td>\n",
              "      <td>1</td>\n",
              "      <td>1</td>\n",
              "      <td>0</td>\n",
              "      <td>0</td>\n",
              "      <td>1</td>\n",
              "      <td>1</td>\n",
              "      <td>1</td>\n",
              "    </tr>\n",
              "    <tr>\n",
              "      <th>...</th>\n",
              "      <th>...</th>\n",
              "      <td>...</td>\n",
              "      <td>...</td>\n",
              "      <td>...</td>\n",
              "      <td>...</td>\n",
              "      <td>...</td>\n",
              "      <td>...</td>\n",
              "      <td>...</td>\n",
              "      <td>...</td>\n",
              "      <td>...</td>\n",
              "      <td>...</td>\n",
              "      <td>...</td>\n",
              "      <td>...</td>\n",
              "      <td>...</td>\n",
              "      <td>...</td>\n",
              "      <td>...</td>\n",
              "      <td>...</td>\n",
              "      <td>...</td>\n",
              "      <td>...</td>\n",
              "      <td>...</td>\n",
              "      <td>...</td>\n",
              "      <td>...</td>\n",
              "    </tr>\n",
              "    <tr>\n",
              "      <th rowspan=\"5\" valign=\"top\">U</th>\n",
              "      <th>Vaccine reaction</th>\n",
              "      <td>2</td>\n",
              "      <td>2</td>\n",
              "      <td>2</td>\n",
              "      <td>2</td>\n",
              "      <td>2</td>\n",
              "      <td>0</td>\n",
              "      <td>2</td>\n",
              "      <td>2</td>\n",
              "      <td>2</td>\n",
              "      <td>0</td>\n",
              "      <td>0</td>\n",
              "      <td>2</td>\n",
              "      <td>2</td>\n",
              "      <td>2</td>\n",
              "      <td>2</td>\n",
              "      <td>2</td>\n",
              "      <td>2</td>\n",
              "      <td>0</td>\n",
              "      <td>2</td>\n",
              "      <td>2</td>\n",
              "      <td>2</td>\n",
              "    </tr>\n",
              "    <tr>\n",
              "      <th>acute bacterial septicemia</th>\n",
              "      <td>1</td>\n",
              "      <td>1</td>\n",
              "      <td>1</td>\n",
              "      <td>1</td>\n",
              "      <td>1</td>\n",
              "      <td>1</td>\n",
              "      <td>1</td>\n",
              "      <td>1</td>\n",
              "      <td>1</td>\n",
              "      <td>1</td>\n",
              "      <td>1</td>\n",
              "      <td>0</td>\n",
              "      <td>1</td>\n",
              "      <td>1</td>\n",
              "      <td>1</td>\n",
              "      <td>1</td>\n",
              "      <td>1</td>\n",
              "      <td>0</td>\n",
              "      <td>1</td>\n",
              "      <td>1</td>\n",
              "      <td>1</td>\n",
              "    </tr>\n",
              "    <tr>\n",
              "      <th>failure to thrive; general organ failure; histology pending</th>\n",
              "      <td>1</td>\n",
              "      <td>1</td>\n",
              "      <td>1</td>\n",
              "      <td>1</td>\n",
              "      <td>1</td>\n",
              "      <td>0</td>\n",
              "      <td>1</td>\n",
              "      <td>1</td>\n",
              "      <td>1</td>\n",
              "      <td>0</td>\n",
              "      <td>0</td>\n",
              "      <td>0</td>\n",
              "      <td>1</td>\n",
              "      <td>1</td>\n",
              "      <td>1</td>\n",
              "      <td>1</td>\n",
              "      <td>0</td>\n",
              "      <td>0</td>\n",
              "      <td>1</td>\n",
              "      <td>1</td>\n",
              "      <td>1</td>\n",
              "    </tr>\n",
              "    <tr>\n",
              "      <th>gastric blockage</th>\n",
              "      <td>1</td>\n",
              "      <td>1</td>\n",
              "      <td>1</td>\n",
              "      <td>0</td>\n",
              "      <td>1</td>\n",
              "      <td>1</td>\n",
              "      <td>1</td>\n",
              "      <td>1</td>\n",
              "      <td>1</td>\n",
              "      <td>0</td>\n",
              "      <td>0</td>\n",
              "      <td>1</td>\n",
              "      <td>1</td>\n",
              "      <td>1</td>\n",
              "      <td>1</td>\n",
              "      <td>1</td>\n",
              "      <td>0</td>\n",
              "      <td>0</td>\n",
              "      <td>1</td>\n",
              "      <td>1</td>\n",
              "      <td>1</td>\n",
              "    </tr>\n",
              "    <tr>\n",
              "      <th>momental impact trauma</th>\n",
              "      <td>1</td>\n",
              "      <td>1</td>\n",
              "      <td>1</td>\n",
              "      <td>1</td>\n",
              "      <td>1</td>\n",
              "      <td>0</td>\n",
              "      <td>1</td>\n",
              "      <td>1</td>\n",
              "      <td>1</td>\n",
              "      <td>0</td>\n",
              "      <td>0</td>\n",
              "      <td>0</td>\n",
              "      <td>1</td>\n",
              "      <td>1</td>\n",
              "      <td>1</td>\n",
              "      <td>1</td>\n",
              "      <td>0</td>\n",
              "      <td>0</td>\n",
              "      <td>1</td>\n",
              "      <td>1</td>\n",
              "      <td>1</td>\n",
              "    </tr>\n",
              "  </tbody>\n",
              "</table>\n",
              "<p>1111 rows × 21 columns</p>\n",
              "</div>"
            ],
            "text/plain": [
              "                                                        row_number  ...  entryDate_timestamp\n",
              "sex COD                                                             ...                     \n",
              "F   (NO RECORD)                                                  2  ...                    0\n",
              "    -                                                           67  ...                   67\n",
              "    ABDOMINAL ABSCESS                                            1  ...                    1\n",
              "    ABSCESS IN MUSCLE TISSUE                                     1  ...                    1\n",
              "    ABSESS ON HEART                                              1  ...                    1\n",
              "...                                                            ...  ...                  ...\n",
              "U   Vaccine reaction                                             2  ...                    2\n",
              "    acute bacterial septicemia                                   1  ...                    1\n",
              "    failure to thrive; general organ failure; histo...           1  ...                    1\n",
              "    gastric blockage                                             1  ...                    1\n",
              "    momental impact trauma                                       1  ...                    1\n",
              "\n",
              "[1111 rows x 21 columns]"
            ]
          },
          "metadata": {
            "tags": []
          },
          "execution_count": 74
        }
      ]
    },
    {
      "cell_type": "markdown",
      "metadata": {
        "id": "JHflveRu7ip9",
        "colab_type": "text"
      },
      "source": [
        " How many killer whales are owned by SeaWorld?"
      ]
    },
    {
      "cell_type": "code",
      "metadata": {
        "id": "TMCx05Bj9qNu",
        "colab_type": "code",
        "colab": {
          "base_uri": "https://localhost:8080/",
          "height": 225
        },
        "outputId": "9ad9aaa9-fb6a-406d-8b68-b902caf152ea"
      },
      "source": [
        "mask = cetaceans['species'].apply(lambda x: str(x).lower().find('orca') > 0)\n",
        "cetaceans[mask]['COD'].value_counts()"
      ],
      "execution_count": 95,
      "outputs": [
        {
          "output_type": "execute_result",
          "data": {
            "text/plain": [
              "-                                                       6\n",
              "Pneumonia                                               4\n",
              "Complications following a stillbirth                    2\n",
              "SEPTICEMIA/also reported as pulmonary abscession        1\n",
              "Septicemia/also reported as pulmonary abscession        1\n",
              "                                                       ..\n",
              "PNUEMONIA                                               1\n",
              "Pleuritis/Pneumonia from upper respiratory infection    1\n",
              "Bronchopneumonia                                        1\n",
              "Perforated stomach                                      1\n",
              "OLD AGE                                                 1\n",
              "Name: COD, Length: 63, dtype: int64"
            ]
          },
          "metadata": {
            "tags": []
          },
          "execution_count": 95
        }
      ]
    },
    {
      "cell_type": "markdown",
      "metadata": {
        "id": "Bf549tDU9Nvx",
        "colab_type": "text"
      },
      "source": [
        "Perhaps unsurprisingly, pneumonia tops the list."
      ]
    }
  ]
}