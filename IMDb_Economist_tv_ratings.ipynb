{
  "nbformat": 4,
  "nbformat_minor": 0,
  "metadata": {
    "kernelspec": {
      "display_name": "Python 3",
      "language": "python",
      "name": "python3"
    },
    "language_info": {
      "codemirror_mode": {
        "name": "ipython",
        "version": 3
      },
      "file_extension": ".py",
      "mimetype": "text/x-python",
      "name": "python",
      "nbconvert_exporter": "python",
      "pygments_lexer": "ipython3",
      "version": "3.7.7"
    },
    "colab": {
      "name": "IMDb_Economist_tv_ratings.ipynb",
      "provenance": [],
      "include_colab_link": true
    }
  },
  "cells": [
    {
      "cell_type": "markdown",
      "metadata": {
        "id": "view-in-github",
        "colab_type": "text"
      },
      "source": [
        "<a href=\"https://colab.research.google.com/github/briandk/2020-virtual-program-in-data-science/blob/master/IMDb_Economist_tv_ratings.ipynb\" target=\"_parent\"><img src=\"https://colab.research.google.com/assets/colab-badge.svg\" alt=\"Open In Colab\"/></a>"
      ]
    },
    {
      "cell_type": "code",
      "metadata": {
        "id": "7y4fZbIqboLo",
        "colab_type": "code",
        "colab": {}
      },
      "source": [
        "import pandas as pd\n",
        "\n",
        "from plotnine import *"
      ],
      "execution_count": 1,
      "outputs": []
    },
    {
      "cell_type": "markdown",
      "metadata": {
        "id": "zlzuKZAxemCJ",
        "colab_type": "text"
      },
      "source": [
        "Data Source: https://github.com/rfordatascience/tidytuesday/tree/master/data/2019/2019-01-08"
      ]
    },
    {
      "cell_type": "code",
      "metadata": {
        "id": "V0br03HcbsQc",
        "colab_type": "code",
        "colab": {}
      },
      "source": [
        "ratings = pd.read_csv(\"https://github.com/briandk/2020-virtual-program-in-data-science/raw/master/data/IMDb_Economist_tv_ratings.csv\")"
      ],
      "execution_count": 2,
      "outputs": []
    },
    {
      "cell_type": "code",
      "metadata": {
        "id": "mmpJsd0Lb7LQ",
        "colab_type": "code",
        "colab": {
          "base_uri": "https://localhost:8080/",
          "height": 419
        },
        "outputId": "135d0756-859c-4e3b-a510-6b66eb0f2567"
      },
      "source": [
        "ratings"
      ],
      "execution_count": null,
      "outputs": [
        {
          "output_type": "execute_result",
          "data": {
            "text/html": [
              "<div>\n",
              "<style scoped>\n",
              "    .dataframe tbody tr th:only-of-type {\n",
              "        vertical-align: middle;\n",
              "    }\n",
              "\n",
              "    .dataframe tbody tr th {\n",
              "        vertical-align: top;\n",
              "    }\n",
              "\n",
              "    .dataframe thead th {\n",
              "        text-align: right;\n",
              "    }\n",
              "</style>\n",
              "<table border=\"1\" class=\"dataframe\">\n",
              "  <thead>\n",
              "    <tr style=\"text-align: right;\">\n",
              "      <th></th>\n",
              "      <th>titleId</th>\n",
              "      <th>seasonNumber</th>\n",
              "      <th>title</th>\n",
              "      <th>date</th>\n",
              "      <th>av_rating</th>\n",
              "      <th>share</th>\n",
              "      <th>genres</th>\n",
              "    </tr>\n",
              "  </thead>\n",
              "  <tbody>\n",
              "    <tr>\n",
              "      <th>0</th>\n",
              "      <td>tt2879552</td>\n",
              "      <td>1</td>\n",
              "      <td>11.22.63</td>\n",
              "      <td>2016-03-10</td>\n",
              "      <td>8.4890</td>\n",
              "      <td>0.51</td>\n",
              "      <td>Drama,Mystery,Sci-Fi</td>\n",
              "    </tr>\n",
              "    <tr>\n",
              "      <th>1</th>\n",
              "      <td>tt3148266</td>\n",
              "      <td>1</td>\n",
              "      <td>12 Monkeys</td>\n",
              "      <td>2015-02-27</td>\n",
              "      <td>8.3407</td>\n",
              "      <td>0.46</td>\n",
              "      <td>Adventure,Drama,Mystery</td>\n",
              "    </tr>\n",
              "    <tr>\n",
              "      <th>2</th>\n",
              "      <td>tt3148266</td>\n",
              "      <td>2</td>\n",
              "      <td>12 Monkeys</td>\n",
              "      <td>2016-05-30</td>\n",
              "      <td>8.8196</td>\n",
              "      <td>0.25</td>\n",
              "      <td>Adventure,Drama,Mystery</td>\n",
              "    </tr>\n",
              "    <tr>\n",
              "      <th>3</th>\n",
              "      <td>tt3148266</td>\n",
              "      <td>3</td>\n",
              "      <td>12 Monkeys</td>\n",
              "      <td>2017-05-19</td>\n",
              "      <td>9.0369</td>\n",
              "      <td>0.19</td>\n",
              "      <td>Adventure,Drama,Mystery</td>\n",
              "    </tr>\n",
              "    <tr>\n",
              "      <th>4</th>\n",
              "      <td>tt3148266</td>\n",
              "      <td>4</td>\n",
              "      <td>12 Monkeys</td>\n",
              "      <td>2018-06-26</td>\n",
              "      <td>9.1363</td>\n",
              "      <td>0.38</td>\n",
              "      <td>Adventure,Drama,Mystery</td>\n",
              "    </tr>\n",
              "    <tr>\n",
              "      <th>...</th>\n",
              "      <td>...</td>\n",
              "      <td>...</td>\n",
              "      <td>...</td>\n",
              "      <td>...</td>\n",
              "      <td>...</td>\n",
              "      <td>...</td>\n",
              "      <td>...</td>\n",
              "    </tr>\n",
              "    <tr>\n",
              "      <th>2261</th>\n",
              "      <td>tt3250026</td>\n",
              "      <td>3</td>\n",
              "      <td>Zoo</td>\n",
              "      <td>2017-07-31</td>\n",
              "      <td>7.4132</td>\n",
              "      <td>0.09</td>\n",
              "      <td>Drama,Mystery,Sci-Fi</td>\n",
              "    </tr>\n",
              "    <tr>\n",
              "      <th>2262</th>\n",
              "      <td>tt3501584</td>\n",
              "      <td>1</td>\n",
              "      <td>iZombie</td>\n",
              "      <td>2015-04-28</td>\n",
              "      <td>8.4296</td>\n",
              "      <td>0.59</td>\n",
              "      <td>Comedy,Crime,Drama</td>\n",
              "    </tr>\n",
              "    <tr>\n",
              "      <th>2263</th>\n",
              "      <td>tt3501584</td>\n",
              "      <td>2</td>\n",
              "      <td>iZombie</td>\n",
              "      <td>2016-01-07</td>\n",
              "      <td>8.5641</td>\n",
              "      <td>0.43</td>\n",
              "      <td>Comedy,Crime,Drama</td>\n",
              "    </tr>\n",
              "    <tr>\n",
              "      <th>2264</th>\n",
              "      <td>tt3501584</td>\n",
              "      <td>3</td>\n",
              "      <td>iZombie</td>\n",
              "      <td>2017-05-16</td>\n",
              "      <td>8.4077</td>\n",
              "      <td>0.23</td>\n",
              "      <td>Comedy,Crime,Drama</td>\n",
              "    </tr>\n",
              "    <tr>\n",
              "      <th>2265</th>\n",
              "      <td>tt3501584</td>\n",
              "      <td>4</td>\n",
              "      <td>iZombie</td>\n",
              "      <td>2018-04-13</td>\n",
              "      <td>8.1214</td>\n",
              "      <td>0.32</td>\n",
              "      <td>Comedy,Crime,Drama</td>\n",
              "    </tr>\n",
              "  </tbody>\n",
              "</table>\n",
              "<p>2266 rows × 7 columns</p>\n",
              "</div>"
            ],
            "text/plain": [
              "        titleId  seasonNumber  ... share                   genres\n",
              "0     tt2879552             1  ...  0.51     Drama,Mystery,Sci-Fi\n",
              "1     tt3148266             1  ...  0.46  Adventure,Drama,Mystery\n",
              "2     tt3148266             2  ...  0.25  Adventure,Drama,Mystery\n",
              "3     tt3148266             3  ...  0.19  Adventure,Drama,Mystery\n",
              "4     tt3148266             4  ...  0.38  Adventure,Drama,Mystery\n",
              "...         ...           ...  ...   ...                      ...\n",
              "2261  tt3250026             3  ...  0.09     Drama,Mystery,Sci-Fi\n",
              "2262  tt3501584             1  ...  0.59       Comedy,Crime,Drama\n",
              "2263  tt3501584             2  ...  0.43       Comedy,Crime,Drama\n",
              "2264  tt3501584             3  ...  0.23       Comedy,Crime,Drama\n",
              "2265  tt3501584             4  ...  0.32       Comedy,Crime,Drama\n",
              "\n",
              "[2266 rows x 7 columns]"
            ]
          },
          "metadata": {
            "tags": []
          },
          "execution_count": 17
        }
      ]
    },
    {
      "cell_type": "code",
      "metadata": {
        "id": "rzOr0r8Vb8hx",
        "colab_type": "code",
        "colab": {
          "base_uri": "https://localhost:8080/",
          "height": 465
        },
        "outputId": "519a0d5e-fdda-47c8-ab34-9fa046877acd"
      },
      "source": [
        "(\n",
        "    ggplot(\n",
        "        aes(\n",
        "            x = 'av_rating',\n",
        "            y = 'share'\n",
        "        ),\n",
        "        data = ratings\n",
        "    ) +\n",
        "    geom_point()\n",
        ")"
      ],
      "execution_count": null,
      "outputs": [
        {
          "output_type": "display_data",
          "data": {
            "image/png": "[encoded data removed]",
            "text/plain": [
              "<Figure size 640x480 with 1 Axes>"
            ]
          },
          "metadata": {
            "tags": []
          }
        },
        {
          "output_type": "execute_result",
          "data": {
            "text/plain": [
              "<ggplot: (8792245304398)>"
            ]
          },
          "metadata": {
            "tags": []
          },
          "execution_count": 18
        }
      ]
    },
    {
      "cell_type": "markdown",
      "metadata": {
        "id": "ceCyuWPAcu7O",
        "colab_type": "text"
      },
      "source": [
        "Now we can ask: What titles have a [share][1] greater than 20?\n",
        "\n",
        "[1]: https://en.wikipedia.org/wiki/Audience_measurement#Terminology"
      ]
    },
    {
      "cell_type": "code",
      "metadata": {
        "id": "uxDCXZ3xcWzk",
        "colab_type": "code",
        "colab": {
          "base_uri": "https://localhost:8080/",
          "height": 318
        },
        "outputId": "73ff5bfe-27d2-491a-cd18-774a153d97c1"
      },
      "source": [
        "threshold = 20\n",
        "ratings[ratings['share'] > threshold].sort_values(by = 'share')"
      ],
      "execution_count": 3,
      "outputs": [
        {
          "output_type": "execute_result",
          "data": {
            "text/html": [
              "<div>\n",
              "<style scoped>\n",
              "    .dataframe tbody tr th:only-of-type {\n",
              "        vertical-align: middle;\n",
              "    }\n",
              "\n",
              "    .dataframe tbody tr th {\n",
              "        vertical-align: top;\n",
              "    }\n",
              "\n",
              "    .dataframe thead th {\n",
              "        text-align: right;\n",
              "    }\n",
              "</style>\n",
              "<table border=\"1\" class=\"dataframe\">\n",
              "  <thead>\n",
              "    <tr style=\"text-align: right;\">\n",
              "      <th></th>\n",
              "      <th>titleId</th>\n",
              "      <th>seasonNumber</th>\n",
              "      <th>title</th>\n",
              "      <th>date</th>\n",
              "      <th>av_rating</th>\n",
              "      <th>share</th>\n",
              "      <th>genres</th>\n",
              "    </tr>\n",
              "  </thead>\n",
              "  <tbody>\n",
              "    <tr>\n",
              "      <th>2064</th>\n",
              "      <td>tt0106179</td>\n",
              "      <td>4</td>\n",
              "      <td>The X-Files</td>\n",
              "      <td>1997-01-22</td>\n",
              "      <td>8.2685</td>\n",
              "      <td>24.76</td>\n",
              "      <td>Drama,Mystery,Sci-Fi</td>\n",
              "    </tr>\n",
              "    <tr>\n",
              "      <th>517</th>\n",
              "      <td>tt0092337</td>\n",
              "      <td>1</td>\n",
              "      <td>Dekalog</td>\n",
              "      <td>1990-04-13</td>\n",
              "      <td>8.2218</td>\n",
              "      <td>27.24</td>\n",
              "      <td>Drama</td>\n",
              "    </tr>\n",
              "    <tr>\n",
              "      <th>2120</th>\n",
              "      <td>tt0098936</td>\n",
              "      <td>1</td>\n",
              "      <td>Twin Peaks</td>\n",
              "      <td>1990-04-29</td>\n",
              "      <td>8.7429</td>\n",
              "      <td>29.25</td>\n",
              "      <td>Crime,Drama,Mystery</td>\n",
              "    </tr>\n",
              "    <tr>\n",
              "      <th>2065</th>\n",
              "      <td>tt0106179</td>\n",
              "      <td>5</td>\n",
              "      <td>The X-Files</td>\n",
              "      <td>1998-02-04</td>\n",
              "      <td>8.4239</td>\n",
              "      <td>32.43</td>\n",
              "      <td>Drama,Mystery,Sci-Fi</td>\n",
              "    </tr>\n",
              "    <tr>\n",
              "      <th>1667</th>\n",
              "      <td>tt0106145</td>\n",
              "      <td>1</td>\n",
              "      <td>Star Trek: Deep Space Nine</td>\n",
              "      <td>1993-03-25</td>\n",
              "      <td>7.0936</td>\n",
              "      <td>37.11</td>\n",
              "      <td>Action,Adventure,Drama</td>\n",
              "    </tr>\n",
              "    <tr>\n",
              "      <th>2063</th>\n",
              "      <td>tt0106179</td>\n",
              "      <td>3</td>\n",
              "      <td>The X-Files</td>\n",
              "      <td>1996-01-12</td>\n",
              "      <td>8.2933</td>\n",
              "      <td>46.29</td>\n",
              "      <td>Drama,Mystery,Sci-Fi</td>\n",
              "    </tr>\n",
              "    <tr>\n",
              "      <th>2062</th>\n",
              "      <td>tt0106179</td>\n",
              "      <td>2</td>\n",
              "      <td>The X-Files</td>\n",
              "      <td>1995-01-11</td>\n",
              "      <td>8.1062</td>\n",
              "      <td>49.15</td>\n",
              "      <td>Drama,Mystery,Sci-Fi</td>\n",
              "    </tr>\n",
              "    <tr>\n",
              "      <th>2121</th>\n",
              "      <td>tt0098936</td>\n",
              "      <td>2</td>\n",
              "      <td>Twin Peaks</td>\n",
              "      <td>1991-01-11</td>\n",
              "      <td>8.4187</td>\n",
              "      <td>55.01</td>\n",
              "      <td>Crime,Drama,Mystery</td>\n",
              "    </tr>\n",
              "    <tr>\n",
              "      <th>2061</th>\n",
              "      <td>tt0106179</td>\n",
              "      <td>1</td>\n",
              "      <td>The X-Files</td>\n",
              "      <td>1994-01-04</td>\n",
              "      <td>7.9288</td>\n",
              "      <td>55.65</td>\n",
              "      <td>Drama,Mystery,Sci-Fi</td>\n",
              "    </tr>\n",
              "  </tbody>\n",
              "</table>\n",
              "</div>"
            ],
            "text/plain": [
              "        titleId  seasonNumber  ...  share                  genres\n",
              "2064  tt0106179             4  ...  24.76    Drama,Mystery,Sci-Fi\n",
              "517   tt0092337             1  ...  27.24                   Drama\n",
              "2120  tt0098936             1  ...  29.25     Crime,Drama,Mystery\n",
              "2065  tt0106179             5  ...  32.43    Drama,Mystery,Sci-Fi\n",
              "1667  tt0106145             1  ...  37.11  Action,Adventure,Drama\n",
              "2063  tt0106179             3  ...  46.29    Drama,Mystery,Sci-Fi\n",
              "2062  tt0106179             2  ...  49.15    Drama,Mystery,Sci-Fi\n",
              "2121  tt0098936             2  ...  55.01     Crime,Drama,Mystery\n",
              "2061  tt0106179             1  ...  55.65    Drama,Mystery,Sci-Fi\n",
              "\n",
              "[9 rows x 7 columns]"
            ]
          },
          "metadata": {
            "tags": []
          },
          "execution_count": 3
        }
      ]
    },
    {
      "cell_type": "markdown",
      "metadata": {
        "id": "WWJys233db_h",
        "colab_type": "text"
      },
      "source": [
        "Next we can ask: what's the total [share][1] taken up by \"The X-Files\"?\n",
        "\n",
        "[1]: https://en.wikipedia.org/wiki/Audience_measurement#Terminology"
      ]
    },
    {
      "cell_type": "code",
      "metadata": {
        "id": "R-yBOdqnc9AY",
        "colab_type": "code",
        "colab": {
          "base_uri": "https://localhost:8080/",
          "height": 34
        },
        "outputId": "0beebe91-4d8d-4651-e432-9194e2395580"
      },
      "source": [
        "ratings[ratings['title'] == \"The X-Files\"]['share'].sum()"
      ],
      "execution_count": null,
      "outputs": [
        {
          "output_type": "execute_result",
          "data": {
            "text/plain": [
              "266.59"
            ]
          },
          "metadata": {
            "tags": []
          },
          "execution_count": 20
        }
      ]
    },
    {
      "cell_type": "markdown",
      "metadata": {
        "id": "87ubP3cseBMp",
        "colab_type": "text"
      },
      "source": [
        "Whoa, OK. So `share` definitely doesn't sum to 100% Does it sum to anything meaningful?"
      ]
    },
    {
      "cell_type": "code",
      "metadata": {
        "id": "xu-u3jDUd5lD",
        "colab_type": "code",
        "colab": {
          "base_uri": "https://localhost:8080/",
          "height": 34
        },
        "outputId": "9f829d36-2610-482c-e777-212c1106a05a"
      },
      "source": [
        "ratings['share'].sum()"
      ],
      "execution_count": null,
      "outputs": [
        {
          "output_type": "execute_result",
          "data": {
            "text/plain": [
              "2900.4399999999996"
            ]
          },
          "metadata": {
            "tags": []
          },
          "execution_count": 21
        }
      ]
    },
    {
      "cell_type": "markdown",
      "metadata": {
        "id": "_nPmXdvVezhb",
        "colab_type": "text"
      },
      "source": [
        "What happens when we *exclude* shows with a share below a certain threshold?"
      ]
    },
    {
      "cell_type": "code",
      "metadata": {
        "id": "11PG5Unmdrv2",
        "colab_type": "code",
        "colab": {
          "base_uri": "https://localhost:8080/",
          "height": 419
        },
        "outputId": "8ea4fd18-48e7-4022-d81b-b7a5dad85858"
      },
      "source": [
        "threshold = 1\n",
        "high_share_shows = ratings[ratings['share'] > threshold]\n",
        "\n",
        "high_share_shows"
      ],
      "execution_count": null,
      "outputs": [
        {
          "output_type": "execute_result",
          "data": {
            "text/html": [
              "<div>\n",
              "<style scoped>\n",
              "    .dataframe tbody tr th:only-of-type {\n",
              "        vertical-align: middle;\n",
              "    }\n",
              "\n",
              "    .dataframe tbody tr th {\n",
              "        vertical-align: top;\n",
              "    }\n",
              "\n",
              "    .dataframe thead th {\n",
              "        text-align: right;\n",
              "    }\n",
              "</style>\n",
              "<table border=\"1\" class=\"dataframe\">\n",
              "  <thead>\n",
              "    <tr style=\"text-align: right;\">\n",
              "      <th></th>\n",
              "      <th>titleId</th>\n",
              "      <th>seasonNumber</th>\n",
              "      <th>title</th>\n",
              "      <th>date</th>\n",
              "      <th>av_rating</th>\n",
              "      <th>share</th>\n",
              "      <th>genres</th>\n",
              "    </tr>\n",
              "  </thead>\n",
              "  <tbody>\n",
              "    <tr>\n",
              "      <th>5</th>\n",
              "      <td>tt1837492</td>\n",
              "      <td>1</td>\n",
              "      <td>13 Reasons Why</td>\n",
              "      <td>2017-03-31</td>\n",
              "      <td>8.4370</td>\n",
              "      <td>2.38</td>\n",
              "      <td>Drama,Mystery</td>\n",
              "    </tr>\n",
              "    <tr>\n",
              "      <th>6</th>\n",
              "      <td>tt1837492</td>\n",
              "      <td>2</td>\n",
              "      <td>13 Reasons Why</td>\n",
              "      <td>2018-05-18</td>\n",
              "      <td>7.5089</td>\n",
              "      <td>2.19</td>\n",
              "      <td>Drama,Mystery</td>\n",
              "    </tr>\n",
              "    <tr>\n",
              "      <th>7</th>\n",
              "      <td>tt0285331</td>\n",
              "      <td>1</td>\n",
              "      <td>24</td>\n",
              "      <td>2002-02-16</td>\n",
              "      <td>8.5641</td>\n",
              "      <td>6.67</td>\n",
              "      <td>Action,Crime,Drama</td>\n",
              "    </tr>\n",
              "    <tr>\n",
              "      <th>8</th>\n",
              "      <td>tt0285331</td>\n",
              "      <td>2</td>\n",
              "      <td>24</td>\n",
              "      <td>2003-02-09</td>\n",
              "      <td>8.7028</td>\n",
              "      <td>7.13</td>\n",
              "      <td>Action,Crime,Drama</td>\n",
              "    </tr>\n",
              "    <tr>\n",
              "      <th>9</th>\n",
              "      <td>tt0285331</td>\n",
              "      <td>3</td>\n",
              "      <td>24</td>\n",
              "      <td>2004-02-09</td>\n",
              "      <td>8.7173</td>\n",
              "      <td>5.88</td>\n",
              "      <td>Action,Crime,Drama</td>\n",
              "    </tr>\n",
              "    <tr>\n",
              "      <th>...</th>\n",
              "      <td>...</td>\n",
              "      <td>...</td>\n",
              "      <td>...</td>\n",
              "      <td>...</td>\n",
              "      <td>...</td>\n",
              "      <td>...</td>\n",
              "      <td>...</td>\n",
              "    </tr>\n",
              "    <tr>\n",
              "      <th>2234</th>\n",
              "      <td>tt0112230</td>\n",
              "      <td>2</td>\n",
              "      <td>Xena: Warrior Princess</td>\n",
              "      <td>1997-01-16</td>\n",
              "      <td>7.8023</td>\n",
              "      <td>2.46</td>\n",
              "      <td>Action,Adventure,Drama</td>\n",
              "    </tr>\n",
              "    <tr>\n",
              "      <th>2235</th>\n",
              "      <td>tt0112230</td>\n",
              "      <td>3</td>\n",
              "      <td>Xena: Warrior Princess</td>\n",
              "      <td>1998-01-09</td>\n",
              "      <td>7.9777</td>\n",
              "      <td>3.88</td>\n",
              "      <td>Action,Adventure,Drama</td>\n",
              "    </tr>\n",
              "    <tr>\n",
              "      <th>2236</th>\n",
              "      <td>tt0112230</td>\n",
              "      <td>4</td>\n",
              "      <td>Xena: Warrior Princess</td>\n",
              "      <td>1999-01-16</td>\n",
              "      <td>7.6438</td>\n",
              "      <td>2.07</td>\n",
              "      <td>Action,Adventure,Drama</td>\n",
              "    </tr>\n",
              "    <tr>\n",
              "      <th>2237</th>\n",
              "      <td>tt0112230</td>\n",
              "      <td>5</td>\n",
              "      <td>Xena: Warrior Princess</td>\n",
              "      <td>2000-01-20</td>\n",
              "      <td>7.7623</td>\n",
              "      <td>1.98</td>\n",
              "      <td>Action,Adventure,Drama</td>\n",
              "    </tr>\n",
              "    <tr>\n",
              "      <th>2238</th>\n",
              "      <td>tt0112230</td>\n",
              "      <td>6</td>\n",
              "      <td>Xena: Warrior Princess</td>\n",
              "      <td>2001-01-28</td>\n",
              "      <td>7.7979</td>\n",
              "      <td>1.73</td>\n",
              "      <td>Action,Adventure,Drama</td>\n",
              "    </tr>\n",
              "  </tbody>\n",
              "</table>\n",
              "<p>603 rows × 7 columns</p>\n",
              "</div>"
            ],
            "text/plain": [
              "        titleId  seasonNumber  ... share                  genres\n",
              "5     tt1837492             1  ...  2.38           Drama,Mystery\n",
              "6     tt1837492             2  ...  2.19           Drama,Mystery\n",
              "7     tt0285331             1  ...  6.67      Action,Crime,Drama\n",
              "8     tt0285331             2  ...  7.13      Action,Crime,Drama\n",
              "9     tt0285331             3  ...  5.88      Action,Crime,Drama\n",
              "...         ...           ...  ...   ...                     ...\n",
              "2234  tt0112230             2  ...  2.46  Action,Adventure,Drama\n",
              "2235  tt0112230             3  ...  3.88  Action,Adventure,Drama\n",
              "2236  tt0112230             4  ...  2.07  Action,Adventure,Drama\n",
              "2237  tt0112230             5  ...  1.98  Action,Adventure,Drama\n",
              "2238  tt0112230             6  ...  1.73  Action,Adventure,Drama\n",
              "\n",
              "[603 rows x 7 columns]"
            ]
          },
          "metadata": {
            "tags": []
          },
          "execution_count": 24
        }
      ]
    },
    {
      "cell_type": "markdown",
      "metadata": {
        "id": "BoW0oKoOfaaK",
        "colab_type": "text"
      },
      "source": [
        "And what happens when we plot these?"
      ]
    },
    {
      "cell_type": "code",
      "metadata": {
        "id": "Hl1RoYgwfP0J",
        "colab_type": "code",
        "colab": {
          "base_uri": "https://localhost:8080/",
          "height": 465
        },
        "outputId": "3fda0417-ced2-47b8-c4ed-744a109fd5c3"
      },
      "source": [
        "(\n",
        "    ggplot(\n",
        "        aes(\n",
        "            x = 'av_rating',\n",
        "            y = 'share',\n",
        "            label = 'title'\n",
        "        ),\n",
        "        data = high_share_shows\n",
        "    ) +\n",
        "    geom_label()\n",
        ")"
      ],
      "execution_count": null,
      "outputs": [
        {
          "output_type": "display_data",
          "data": {
            "image/png": "[encoded data removed]",
            "text/plain": [
              "<Figure size 640x480 with 1 Axes>"
            ]
          },
          "metadata": {
            "tags": []
          }
        },
        {
          "output_type": "execute_result",
          "data": {
            "text/plain": [
              "<ggplot: (8792245200932)>"
            ]
          },
          "metadata": {
            "tags": []
          },
          "execution_count": 28
        }
      ]
    },
    {
      "cell_type": "markdown",
      "metadata": {
        "id": "vpsg3PWbgZzC",
        "colab_type": "text"
      },
      "source": [
        ""
      ]
    },
    {
      "cell_type": "code",
      "metadata": {
        "id": "1DIVZE99fkxe",
        "colab_type": "code",
        "colab": {}
      },
      "source": [
        ""
      ],
      "execution_count": null,
      "outputs": []
    }
  ]
}